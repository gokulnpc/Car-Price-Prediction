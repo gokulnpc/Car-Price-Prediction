{
 "cells": [
  {
   "cell_type": "code",
   "execution_count": 4,
   "metadata": {},
   "outputs": [],
   "source": [
    "import pandas as pd\n",
    "import numpy as np\n",
    "import matplotlib.pyplot as plt"
   ]
  },
  {
   "cell_type": "markdown",
   "metadata": {},
   "source": [
    "# 1. Data Analysis:\n",
    "- isna(), info(), decribe(), crosstab()\n",
    "- plots\n",
    "- correlation matrix \n",
    "- sort data by date "
   ]
  },
  {
   "cell_type": "code",
   "execution_count": 108,
   "metadata": {},
   "outputs": [
    {
     "data": {
      "text/html": [
       "<div>\n",
       "<style scoped>\n",
       "    .dataframe tbody tr th:only-of-type {\n",
       "        vertical-align: middle;\n",
       "    }\n",
       "\n",
       "    .dataframe tbody tr th {\n",
       "        vertical-align: top;\n",
       "    }\n",
       "\n",
       "    .dataframe thead th {\n",
       "        text-align: right;\n",
       "    }\n",
       "</style>\n",
       "<table border=\"1\" class=\"dataframe\">\n",
       "  <thead>\n",
       "    <tr style=\"text-align: right;\">\n",
       "      <th></th>\n",
       "      <th>Make</th>\n",
       "      <th>Model</th>\n",
       "      <th>Price</th>\n",
       "      <th>Year</th>\n",
       "      <th>Kilometer</th>\n",
       "      <th>Fuel Type</th>\n",
       "      <th>Transmission</th>\n",
       "      <th>Location</th>\n",
       "      <th>Color</th>\n",
       "      <th>Owner</th>\n",
       "      <th>Seller Type</th>\n",
       "      <th>Engine</th>\n",
       "      <th>Max Power</th>\n",
       "      <th>Max Torque</th>\n",
       "      <th>Drivetrain</th>\n",
       "      <th>Length</th>\n",
       "      <th>Width</th>\n",
       "      <th>Height</th>\n",
       "      <th>Seating Capacity</th>\n",
       "      <th>Fuel Tank Capacity</th>\n",
       "    </tr>\n",
       "  </thead>\n",
       "  <tbody>\n",
       "    <tr>\n",
       "      <th>0</th>\n",
       "      <td>Honda</td>\n",
       "      <td>Amaze 1.2 VX i-VTEC</td>\n",
       "      <td>505000</td>\n",
       "      <td>2017</td>\n",
       "      <td>87150</td>\n",
       "      <td>Petrol</td>\n",
       "      <td>Manual</td>\n",
       "      <td>Pune</td>\n",
       "      <td>Grey</td>\n",
       "      <td>First</td>\n",
       "      <td>Corporate</td>\n",
       "      <td>1198 cc</td>\n",
       "      <td>87 bhp @ 6000 rpm</td>\n",
       "      <td>109 Nm @ 4500 rpm</td>\n",
       "      <td>FWD</td>\n",
       "      <td>3990.0</td>\n",
       "      <td>1680.0</td>\n",
       "      <td>1505.0</td>\n",
       "      <td>5.0</td>\n",
       "      <td>35.0</td>\n",
       "    </tr>\n",
       "    <tr>\n",
       "      <th>1</th>\n",
       "      <td>Maruti Suzuki</td>\n",
       "      <td>Swift DZire VDI</td>\n",
       "      <td>450000</td>\n",
       "      <td>2014</td>\n",
       "      <td>75000</td>\n",
       "      <td>Diesel</td>\n",
       "      <td>Manual</td>\n",
       "      <td>Ludhiana</td>\n",
       "      <td>White</td>\n",
       "      <td>Second</td>\n",
       "      <td>Individual</td>\n",
       "      <td>1248 cc</td>\n",
       "      <td>74 bhp @ 4000 rpm</td>\n",
       "      <td>190 Nm @ 2000 rpm</td>\n",
       "      <td>FWD</td>\n",
       "      <td>3995.0</td>\n",
       "      <td>1695.0</td>\n",
       "      <td>1555.0</td>\n",
       "      <td>5.0</td>\n",
       "      <td>42.0</td>\n",
       "    </tr>\n",
       "    <tr>\n",
       "      <th>2</th>\n",
       "      <td>Hyundai</td>\n",
       "      <td>i10 Magna 1.2 Kappa2</td>\n",
       "      <td>220000</td>\n",
       "      <td>2011</td>\n",
       "      <td>67000</td>\n",
       "      <td>Petrol</td>\n",
       "      <td>Manual</td>\n",
       "      <td>Lucknow</td>\n",
       "      <td>Maroon</td>\n",
       "      <td>First</td>\n",
       "      <td>Individual</td>\n",
       "      <td>1197 cc</td>\n",
       "      <td>79 bhp @ 6000 rpm</td>\n",
       "      <td>112.7619 Nm @ 4000 rpm</td>\n",
       "      <td>FWD</td>\n",
       "      <td>3585.0</td>\n",
       "      <td>1595.0</td>\n",
       "      <td>1550.0</td>\n",
       "      <td>5.0</td>\n",
       "      <td>35.0</td>\n",
       "    </tr>\n",
       "    <tr>\n",
       "      <th>3</th>\n",
       "      <td>Toyota</td>\n",
       "      <td>Glanza G</td>\n",
       "      <td>799000</td>\n",
       "      <td>2019</td>\n",
       "      <td>37500</td>\n",
       "      <td>Petrol</td>\n",
       "      <td>Manual</td>\n",
       "      <td>Mangalore</td>\n",
       "      <td>Red</td>\n",
       "      <td>First</td>\n",
       "      <td>Individual</td>\n",
       "      <td>1197 cc</td>\n",
       "      <td>82 bhp @ 6000 rpm</td>\n",
       "      <td>113 Nm @ 4200 rpm</td>\n",
       "      <td>FWD</td>\n",
       "      <td>3995.0</td>\n",
       "      <td>1745.0</td>\n",
       "      <td>1510.0</td>\n",
       "      <td>5.0</td>\n",
       "      <td>37.0</td>\n",
       "    </tr>\n",
       "    <tr>\n",
       "      <th>4</th>\n",
       "      <td>Toyota</td>\n",
       "      <td>Innova 2.4 VX 7 STR [2016-2020]</td>\n",
       "      <td>1950000</td>\n",
       "      <td>2018</td>\n",
       "      <td>69000</td>\n",
       "      <td>Diesel</td>\n",
       "      <td>Manual</td>\n",
       "      <td>Mumbai</td>\n",
       "      <td>Grey</td>\n",
       "      <td>First</td>\n",
       "      <td>Individual</td>\n",
       "      <td>2393 cc</td>\n",
       "      <td>148 bhp @ 3400 rpm</td>\n",
       "      <td>343 Nm @ 1400 rpm</td>\n",
       "      <td>RWD</td>\n",
       "      <td>4735.0</td>\n",
       "      <td>1830.0</td>\n",
       "      <td>1795.0</td>\n",
       "      <td>7.0</td>\n",
       "      <td>55.0</td>\n",
       "    </tr>\n",
       "  </tbody>\n",
       "</table>\n",
       "</div>"
      ],
      "text/plain": [
       "            Make                            Model    Price  Year  Kilometer  \\\n",
       "0          Honda              Amaze 1.2 VX i-VTEC   505000  2017      87150   \n",
       "1  Maruti Suzuki                  Swift DZire VDI   450000  2014      75000   \n",
       "2        Hyundai             i10 Magna 1.2 Kappa2   220000  2011      67000   \n",
       "3         Toyota                         Glanza G   799000  2019      37500   \n",
       "4         Toyota  Innova 2.4 VX 7 STR [2016-2020]  1950000  2018      69000   \n",
       "\n",
       "  Fuel Type Transmission   Location   Color   Owner Seller Type   Engine  \\\n",
       "0    Petrol       Manual       Pune    Grey   First   Corporate  1198 cc   \n",
       "1    Diesel       Manual   Ludhiana   White  Second  Individual  1248 cc   \n",
       "2    Petrol       Manual    Lucknow  Maroon   First  Individual  1197 cc   \n",
       "3    Petrol       Manual  Mangalore     Red   First  Individual  1197 cc   \n",
       "4    Diesel       Manual     Mumbai    Grey   First  Individual  2393 cc   \n",
       "\n",
       "            Max Power              Max Torque Drivetrain  Length   Width  \\\n",
       "0   87 bhp @ 6000 rpm       109 Nm @ 4500 rpm        FWD  3990.0  1680.0   \n",
       "1   74 bhp @ 4000 rpm       190 Nm @ 2000 rpm        FWD  3995.0  1695.0   \n",
       "2   79 bhp @ 6000 rpm  112.7619 Nm @ 4000 rpm        FWD  3585.0  1595.0   \n",
       "3   82 bhp @ 6000 rpm       113 Nm @ 4200 rpm        FWD  3995.0  1745.0   \n",
       "4  148 bhp @ 3400 rpm       343 Nm @ 1400 rpm        RWD  4735.0  1830.0   \n",
       "\n",
       "   Height  Seating Capacity  Fuel Tank Capacity  \n",
       "0  1505.0               5.0                35.0  \n",
       "1  1555.0               5.0                42.0  \n",
       "2  1550.0               5.0                35.0  \n",
       "3  1510.0               5.0                37.0  \n",
       "4  1795.0               7.0                55.0  "
      ]
     },
     "execution_count": 108,
     "metadata": {},
     "output_type": "execute_result"
    }
   ],
   "source": [
    "df = pd.read_csv('car_data.csv')\n",
    "df.head()"
   ]
  },
  {
   "cell_type": "code",
   "execution_count": 109,
   "metadata": {},
   "outputs": [
    {
     "name": "stdout",
     "output_type": "stream",
     "text": [
      "<class 'pandas.core.frame.DataFrame'>\n",
      "RangeIndex: 2059 entries, 0 to 2058\n",
      "Data columns (total 20 columns):\n",
      " #   Column              Non-Null Count  Dtype  \n",
      "---  ------              --------------  -----  \n",
      " 0   Make                2059 non-null   object \n",
      " 1   Model               2059 non-null   object \n",
      " 2   Price               2059 non-null   int64  \n",
      " 3   Year                2059 non-null   int64  \n",
      " 4   Kilometer           2059 non-null   int64  \n",
      " 5   Fuel Type           2059 non-null   object \n",
      " 6   Transmission        2059 non-null   object \n",
      " 7   Location            2059 non-null   object \n",
      " 8   Color               2059 non-null   object \n",
      " 9   Owner               2059 non-null   object \n",
      " 10  Seller Type         2059 non-null   object \n",
      " 11  Engine              1979 non-null   object \n",
      " 12  Max Power           1979 non-null   object \n",
      " 13  Max Torque          1979 non-null   object \n",
      " 14  Drivetrain          1923 non-null   object \n",
      " 15  Length              1995 non-null   float64\n",
      " 16  Width               1995 non-null   float64\n",
      " 17  Height              1995 non-null   float64\n",
      " 18  Seating Capacity    1995 non-null   float64\n",
      " 19  Fuel Tank Capacity  1946 non-null   float64\n",
      "dtypes: float64(5), int64(3), object(12)\n",
      "memory usage: 321.8+ KB\n"
     ]
    }
   ],
   "source": [
    "df.info()"
   ]
  },
  {
   "cell_type": "code",
   "execution_count": 110,
   "metadata": {},
   "outputs": [
    {
     "data": {
      "text/plain": [
       "Make                    0\n",
       "Model                   0\n",
       "Price                   0\n",
       "Year                    0\n",
       "Kilometer               0\n",
       "Fuel Type               0\n",
       "Transmission            0\n",
       "Location                0\n",
       "Color                   0\n",
       "Owner                   0\n",
       "Seller Type             0\n",
       "Engine                 80\n",
       "Max Power              80\n",
       "Max Torque             80\n",
       "Drivetrain            136\n",
       "Length                 64\n",
       "Width                  64\n",
       "Height                 64\n",
       "Seating Capacity       64\n",
       "Fuel Tank Capacity    113\n",
       "dtype: int64"
      ]
     },
     "execution_count": 110,
     "metadata": {},
     "output_type": "execute_result"
    }
   ],
   "source": [
    "df.isna().sum()"
   ]
  },
  {
   "cell_type": "markdown",
   "metadata": {},
   "source": [
    "# 2. Clean Data: \n",
    "- Dropping rows and columns based on null values"
   ]
  },
  {
   "cell_type": "code",
   "execution_count": 111,
   "metadata": {},
   "outputs": [],
   "source": [
    "# Make column names lower case\n",
    "df.columns = df.columns.str.lower()"
   ]
  },
  {
   "cell_type": "code",
   "execution_count": 112,
   "metadata": {},
   "outputs": [],
   "source": [
    "# Drop length, Width, Height, location columns\n",
    "df.drop(['length', 'width', 'height', 'location', 'drivetrain'], axis=1, inplace=True)"
   ]
  },
  {
   "cell_type": "code",
   "execution_count": 113,
   "metadata": {},
   "outputs": [
    {
     "data": {
      "text/html": [
       "<div>\n",
       "<style scoped>\n",
       "    .dataframe tbody tr th:only-of-type {\n",
       "        vertical-align: middle;\n",
       "    }\n",
       "\n",
       "    .dataframe tbody tr th {\n",
       "        vertical-align: top;\n",
       "    }\n",
       "\n",
       "    .dataframe thead th {\n",
       "        text-align: right;\n",
       "    }\n",
       "</style>\n",
       "<table border=\"1\" class=\"dataframe\">\n",
       "  <thead>\n",
       "    <tr style=\"text-align: right;\">\n",
       "      <th></th>\n",
       "      <th>make</th>\n",
       "      <th>model</th>\n",
       "      <th>price</th>\n",
       "      <th>year</th>\n",
       "      <th>kilometer</th>\n",
       "      <th>fuel type</th>\n",
       "      <th>transmission</th>\n",
       "      <th>color</th>\n",
       "      <th>owner</th>\n",
       "      <th>seller type</th>\n",
       "      <th>engine</th>\n",
       "      <th>max power</th>\n",
       "      <th>max torque</th>\n",
       "      <th>seating capacity</th>\n",
       "      <th>fuel tank capacity</th>\n",
       "    </tr>\n",
       "  </thead>\n",
       "  <tbody>\n",
       "    <tr>\n",
       "      <th>0</th>\n",
       "      <td>Honda</td>\n",
       "      <td>Amaze 1.2 VX i-VTEC</td>\n",
       "      <td>505000</td>\n",
       "      <td>2017</td>\n",
       "      <td>87150</td>\n",
       "      <td>Petrol</td>\n",
       "      <td>Manual</td>\n",
       "      <td>Grey</td>\n",
       "      <td>First</td>\n",
       "      <td>Corporate</td>\n",
       "      <td>1198 cc</td>\n",
       "      <td>87 bhp @ 6000 rpm</td>\n",
       "      <td>109 Nm @ 4500 rpm</td>\n",
       "      <td>5.0</td>\n",
       "      <td>35.0</td>\n",
       "    </tr>\n",
       "    <tr>\n",
       "      <th>1</th>\n",
       "      <td>Maruti Suzuki</td>\n",
       "      <td>Swift DZire VDI</td>\n",
       "      <td>450000</td>\n",
       "      <td>2014</td>\n",
       "      <td>75000</td>\n",
       "      <td>Diesel</td>\n",
       "      <td>Manual</td>\n",
       "      <td>White</td>\n",
       "      <td>Second</td>\n",
       "      <td>Individual</td>\n",
       "      <td>1248 cc</td>\n",
       "      <td>74 bhp @ 4000 rpm</td>\n",
       "      <td>190 Nm @ 2000 rpm</td>\n",
       "      <td>5.0</td>\n",
       "      <td>42.0</td>\n",
       "    </tr>\n",
       "    <tr>\n",
       "      <th>2</th>\n",
       "      <td>Hyundai</td>\n",
       "      <td>i10 Magna 1.2 Kappa2</td>\n",
       "      <td>220000</td>\n",
       "      <td>2011</td>\n",
       "      <td>67000</td>\n",
       "      <td>Petrol</td>\n",
       "      <td>Manual</td>\n",
       "      <td>Maroon</td>\n",
       "      <td>First</td>\n",
       "      <td>Individual</td>\n",
       "      <td>1197 cc</td>\n",
       "      <td>79 bhp @ 6000 rpm</td>\n",
       "      <td>112.7619 Nm @ 4000 rpm</td>\n",
       "      <td>5.0</td>\n",
       "      <td>35.0</td>\n",
       "    </tr>\n",
       "    <tr>\n",
       "      <th>3</th>\n",
       "      <td>Toyota</td>\n",
       "      <td>Glanza G</td>\n",
       "      <td>799000</td>\n",
       "      <td>2019</td>\n",
       "      <td>37500</td>\n",
       "      <td>Petrol</td>\n",
       "      <td>Manual</td>\n",
       "      <td>Red</td>\n",
       "      <td>First</td>\n",
       "      <td>Individual</td>\n",
       "      <td>1197 cc</td>\n",
       "      <td>82 bhp @ 6000 rpm</td>\n",
       "      <td>113 Nm @ 4200 rpm</td>\n",
       "      <td>5.0</td>\n",
       "      <td>37.0</td>\n",
       "    </tr>\n",
       "    <tr>\n",
       "      <th>4</th>\n",
       "      <td>Toyota</td>\n",
       "      <td>Innova 2.4 VX 7 STR [2016-2020]</td>\n",
       "      <td>1950000</td>\n",
       "      <td>2018</td>\n",
       "      <td>69000</td>\n",
       "      <td>Diesel</td>\n",
       "      <td>Manual</td>\n",
       "      <td>Grey</td>\n",
       "      <td>First</td>\n",
       "      <td>Individual</td>\n",
       "      <td>2393 cc</td>\n",
       "      <td>148 bhp @ 3400 rpm</td>\n",
       "      <td>343 Nm @ 1400 rpm</td>\n",
       "      <td>7.0</td>\n",
       "      <td>55.0</td>\n",
       "    </tr>\n",
       "  </tbody>\n",
       "</table>\n",
       "</div>"
      ],
      "text/plain": [
       "            make                            model    price  year  kilometer  \\\n",
       "0          Honda              Amaze 1.2 VX i-VTEC   505000  2017      87150   \n",
       "1  Maruti Suzuki                  Swift DZire VDI   450000  2014      75000   \n",
       "2        Hyundai             i10 Magna 1.2 Kappa2   220000  2011      67000   \n",
       "3         Toyota                         Glanza G   799000  2019      37500   \n",
       "4         Toyota  Innova 2.4 VX 7 STR [2016-2020]  1950000  2018      69000   \n",
       "\n",
       "  fuel type transmission   color   owner seller type   engine  \\\n",
       "0    Petrol       Manual    Grey   First   Corporate  1198 cc   \n",
       "1    Diesel       Manual   White  Second  Individual  1248 cc   \n",
       "2    Petrol       Manual  Maroon   First  Individual  1197 cc   \n",
       "3    Petrol       Manual     Red   First  Individual  1197 cc   \n",
       "4    Diesel       Manual    Grey   First  Individual  2393 cc   \n",
       "\n",
       "            max power              max torque  seating capacity  \\\n",
       "0   87 bhp @ 6000 rpm       109 Nm @ 4500 rpm               5.0   \n",
       "1   74 bhp @ 4000 rpm       190 Nm @ 2000 rpm               5.0   \n",
       "2   79 bhp @ 6000 rpm  112.7619 Nm @ 4000 rpm               5.0   \n",
       "3   82 bhp @ 6000 rpm       113 Nm @ 4200 rpm               5.0   \n",
       "4  148 bhp @ 3400 rpm       343 Nm @ 1400 rpm               7.0   \n",
       "\n",
       "   fuel tank capacity  \n",
       "0                35.0  \n",
       "1                42.0  \n",
       "2                35.0  \n",
       "3                37.0  \n",
       "4                55.0  "
      ]
     },
     "execution_count": 113,
     "metadata": {},
     "output_type": "execute_result"
    }
   ],
   "source": [
    "df.head()"
   ]
  },
  {
   "cell_type": "code",
   "execution_count": 114,
   "metadata": {},
   "outputs": [
    {
     "data": {
      "text/plain": [
       "make                    0\n",
       "model                   0\n",
       "price                   0\n",
       "year                    0\n",
       "kilometer               0\n",
       "fuel type               0\n",
       "transmission            0\n",
       "color                   0\n",
       "owner                   0\n",
       "seller type             0\n",
       "engine                 80\n",
       "max power              80\n",
       "max torque             80\n",
       "seating capacity       64\n",
       "fuel tank capacity    113\n",
       "dtype: int64"
      ]
     },
     "execution_count": 114,
     "metadata": {},
     "output_type": "execute_result"
    }
   ],
   "source": [
    "df.isna().sum()"
   ]
  },
  {
   "cell_type": "code",
   "execution_count": 115,
   "metadata": {},
   "outputs": [
    {
     "name": "stdout",
     "output_type": "stream",
     "text": [
      "<class 'pandas.core.frame.DataFrame'>\n",
      "RangeIndex: 2059 entries, 0 to 2058\n",
      "Data columns (total 15 columns):\n",
      " #   Column              Non-Null Count  Dtype  \n",
      "---  ------              --------------  -----  \n",
      " 0   make                2059 non-null   object \n",
      " 1   model               2059 non-null   object \n",
      " 2   price               2059 non-null   int64  \n",
      " 3   year                2059 non-null   int64  \n",
      " 4   kilometer           2059 non-null   int64  \n",
      " 5   fuel type           2059 non-null   object \n",
      " 6   transmission        2059 non-null   object \n",
      " 7   color               2059 non-null   object \n",
      " 8   owner               2059 non-null   object \n",
      " 9   seller type         2059 non-null   object \n",
      " 10  engine              1979 non-null   object \n",
      " 11  max power           1979 non-null   object \n",
      " 12  max torque          1979 non-null   object \n",
      " 13  seating capacity    1995 non-null   float64\n",
      " 14  fuel tank capacity  1946 non-null   float64\n",
      "dtypes: float64(2), int64(3), object(10)\n",
      "memory usage: 241.4+ KB\n"
     ]
    }
   ],
   "source": [
    "df.info()"
   ]
  },
  {
   "cell_type": "markdown",
   "metadata": {},
   "source": [
    "# 3. Handling Features:\n",
    "- Check isna().sum() for each feature, if not significant proceed\n",
    "- Make the feature ready for one hot encoding\n",
    "- Remove unique values which has less number of counts\n",
    "- Modify and clean the values in each feature column accordingly"
   ]
  },
  {
   "cell_type": "markdown",
   "metadata": {},
   "source": [
    "## Feature: fuel tank capacity"
   ]
  },
  {
   "cell_type": "code",
   "execution_count": 116,
   "metadata": {},
   "outputs": [
    {
     "data": {
      "text/plain": [
       "count    1946.000000\n",
       "mean       52.002210\n",
       "std        15.110198\n",
       "min        15.000000\n",
       "25%        41.250000\n",
       "50%        50.000000\n",
       "75%        60.000000\n",
       "max       105.000000\n",
       "Name: fuel tank capacity, dtype: float64"
      ]
     },
     "execution_count": 116,
     "metadata": {},
     "output_type": "execute_result"
    }
   ],
   "source": [
    "df['fuel tank capacity'].describe()"
   ]
  },
  {
   "cell_type": "code",
   "execution_count": 117,
   "metadata": {},
   "outputs": [
    {
     "data": {
      "text/plain": [
       "<Axes: >"
      ]
     },
     "execution_count": 117,
     "metadata": {},
     "output_type": "execute_result"
    },
    {
     "data": {
      "image/png": "[encoded data removed]",
      "text/plain": [
       "<Figure size 640x480 with 1 Axes>"
      ]
     },
     "metadata": {},
     "output_type": "display_data"
    }
   ],
   "source": [
    "# histogram of fuel tank capacity\n",
    "df['fuel tank capacity'].hist()"
   ]
  },
  {
   "cell_type": "code",
   "execution_count": 118,
   "metadata": {},
   "outputs": [
    {
     "name": "stderr",
     "output_type": "stream",
     "text": [
      "C:\\Users\\Gokuleshwaran\\AppData\\Local\\Temp\\ipykernel_9924\\1590736307.py:2: FutureWarning: A value is trying to be set on a copy of a DataFrame or Series through chained assignment using an inplace method.\n",
      "The behavior will change in pandas 3.0. This inplace method will never work because the intermediate object on which we are setting values always behaves as a copy.\n",
      "\n",
      "For example, when doing 'df[col].method(value, inplace=True)', try using 'df.method({col: value}, inplace=True)' or df[col] = df[col].method(value) instead, to perform the operation inplace on the original object.\n",
      "\n",
      "\n",
      "  df['fuel tank capacity'].fillna(df['fuel tank capacity'].mean(), inplace=True)\n"
     ]
    }
   ],
   "source": [
    "# fill missing values with mean\n",
    "df['fuel tank capacity'].fillna(df['fuel tank capacity'].mean(), inplace=True)"
   ]
  },
  {
   "cell_type": "code",
   "execution_count": 119,
   "metadata": {},
   "outputs": [
    {
     "name": "stdout",
     "output_type": "stream",
     "text": [
      "<class 'pandas.core.frame.DataFrame'>\n",
      "RangeIndex: 2059 entries, 0 to 2058\n",
      "Data columns (total 15 columns):\n",
      " #   Column              Non-Null Count  Dtype  \n",
      "---  ------              --------------  -----  \n",
      " 0   make                2059 non-null   object \n",
      " 1   model               2059 non-null   object \n",
      " 2   price               2059 non-null   int64  \n",
      " 3   year                2059 non-null   int64  \n",
      " 4   kilometer           2059 non-null   int64  \n",
      " 5   fuel type           2059 non-null   object \n",
      " 6   transmission        2059 non-null   object \n",
      " 7   color               2059 non-null   object \n",
      " 8   owner               2059 non-null   object \n",
      " 9   seller type         2059 non-null   object \n",
      " 10  engine              1979 non-null   object \n",
      " 11  max power           1979 non-null   object \n",
      " 12  max torque          1979 non-null   object \n",
      " 13  seating capacity    1995 non-null   float64\n",
      " 14  fuel tank capacity  2059 non-null   float64\n",
      "dtypes: float64(2), int64(3), object(10)\n",
      "memory usage: 241.4+ KB\n"
     ]
    }
   ],
   "source": [
    "# check for missing values\n",
    "df.info()"
   ]
  },
  {
   "cell_type": "markdown",
   "metadata": {},
   "source": [
    "## Feature: max power"
   ]
  },
  {
   "cell_type": "code",
   "execution_count": 120,
   "metadata": {},
   "outputs": [
    {
     "data": {
      "text/html": [
       "<div>\n",
       "<style scoped>\n",
       "    .dataframe tbody tr th:only-of-type {\n",
       "        vertical-align: middle;\n",
       "    }\n",
       "\n",
       "    .dataframe tbody tr th {\n",
       "        vertical-align: top;\n",
       "    }\n",
       "\n",
       "    .dataframe thead th {\n",
       "        text-align: right;\n",
       "    }\n",
       "</style>\n",
       "<table border=\"1\" class=\"dataframe\">\n",
       "  <thead>\n",
       "    <tr style=\"text-align: right;\">\n",
       "      <th></th>\n",
       "      <th>make</th>\n",
       "      <th>model</th>\n",
       "      <th>price</th>\n",
       "      <th>year</th>\n",
       "      <th>kilometer</th>\n",
       "      <th>fuel type</th>\n",
       "      <th>transmission</th>\n",
       "      <th>color</th>\n",
       "      <th>owner</th>\n",
       "      <th>seller type</th>\n",
       "      <th>engine</th>\n",
       "      <th>max power</th>\n",
       "      <th>max torque</th>\n",
       "      <th>seating capacity</th>\n",
       "      <th>fuel tank capacity</th>\n",
       "    </tr>\n",
       "  </thead>\n",
       "  <tbody>\n",
       "    <tr>\n",
       "      <th>0</th>\n",
       "      <td>Honda</td>\n",
       "      <td>Amaze 1.2 VX i-VTEC</td>\n",
       "      <td>505000</td>\n",
       "      <td>2017</td>\n",
       "      <td>87150</td>\n",
       "      <td>Petrol</td>\n",
       "      <td>Manual</td>\n",
       "      <td>Grey</td>\n",
       "      <td>First</td>\n",
       "      <td>Corporate</td>\n",
       "      <td>1198 cc</td>\n",
       "      <td>87 bhp @ 6000 rpm</td>\n",
       "      <td>109 Nm @ 4500 rpm</td>\n",
       "      <td>5.0</td>\n",
       "      <td>35.0</td>\n",
       "    </tr>\n",
       "    <tr>\n",
       "      <th>1</th>\n",
       "      <td>Maruti Suzuki</td>\n",
       "      <td>Swift DZire VDI</td>\n",
       "      <td>450000</td>\n",
       "      <td>2014</td>\n",
       "      <td>75000</td>\n",
       "      <td>Diesel</td>\n",
       "      <td>Manual</td>\n",
       "      <td>White</td>\n",
       "      <td>Second</td>\n",
       "      <td>Individual</td>\n",
       "      <td>1248 cc</td>\n",
       "      <td>74 bhp @ 4000 rpm</td>\n",
       "      <td>190 Nm @ 2000 rpm</td>\n",
       "      <td>5.0</td>\n",
       "      <td>42.0</td>\n",
       "    </tr>\n",
       "    <tr>\n",
       "      <th>2</th>\n",
       "      <td>Hyundai</td>\n",
       "      <td>i10 Magna 1.2 Kappa2</td>\n",
       "      <td>220000</td>\n",
       "      <td>2011</td>\n",
       "      <td>67000</td>\n",
       "      <td>Petrol</td>\n",
       "      <td>Manual</td>\n",
       "      <td>Maroon</td>\n",
       "      <td>First</td>\n",
       "      <td>Individual</td>\n",
       "      <td>1197 cc</td>\n",
       "      <td>79 bhp @ 6000 rpm</td>\n",
       "      <td>112.7619 Nm @ 4000 rpm</td>\n",
       "      <td>5.0</td>\n",
       "      <td>35.0</td>\n",
       "    </tr>\n",
       "    <tr>\n",
       "      <th>3</th>\n",
       "      <td>Toyota</td>\n",
       "      <td>Glanza G</td>\n",
       "      <td>799000</td>\n",
       "      <td>2019</td>\n",
       "      <td>37500</td>\n",
       "      <td>Petrol</td>\n",
       "      <td>Manual</td>\n",
       "      <td>Red</td>\n",
       "      <td>First</td>\n",
       "      <td>Individual</td>\n",
       "      <td>1197 cc</td>\n",
       "      <td>82 bhp @ 6000 rpm</td>\n",
       "      <td>113 Nm @ 4200 rpm</td>\n",
       "      <td>5.0</td>\n",
       "      <td>37.0</td>\n",
       "    </tr>\n",
       "    <tr>\n",
       "      <th>4</th>\n",
       "      <td>Toyota</td>\n",
       "      <td>Innova 2.4 VX 7 STR [2016-2020]</td>\n",
       "      <td>1950000</td>\n",
       "      <td>2018</td>\n",
       "      <td>69000</td>\n",
       "      <td>Diesel</td>\n",
       "      <td>Manual</td>\n",
       "      <td>Grey</td>\n",
       "      <td>First</td>\n",
       "      <td>Individual</td>\n",
       "      <td>2393 cc</td>\n",
       "      <td>148 bhp @ 3400 rpm</td>\n",
       "      <td>343 Nm @ 1400 rpm</td>\n",
       "      <td>7.0</td>\n",
       "      <td>55.0</td>\n",
       "    </tr>\n",
       "  </tbody>\n",
       "</table>\n",
       "</div>"
      ],
      "text/plain": [
       "            make                            model    price  year  kilometer  \\\n",
       "0          Honda              Amaze 1.2 VX i-VTEC   505000  2017      87150   \n",
       "1  Maruti Suzuki                  Swift DZire VDI   450000  2014      75000   \n",
       "2        Hyundai             i10 Magna 1.2 Kappa2   220000  2011      67000   \n",
       "3         Toyota                         Glanza G   799000  2019      37500   \n",
       "4         Toyota  Innova 2.4 VX 7 STR [2016-2020]  1950000  2018      69000   \n",
       "\n",
       "  fuel type transmission   color   owner seller type   engine  \\\n",
       "0    Petrol       Manual    Grey   First   Corporate  1198 cc   \n",
       "1    Diesel       Manual   White  Second  Individual  1248 cc   \n",
       "2    Petrol       Manual  Maroon   First  Individual  1197 cc   \n",
       "3    Petrol       Manual     Red   First  Individual  1197 cc   \n",
       "4    Diesel       Manual    Grey   First  Individual  2393 cc   \n",
       "\n",
       "            max power              max torque  seating capacity  \\\n",
       "0   87 bhp @ 6000 rpm       109 Nm @ 4500 rpm               5.0   \n",
       "1   74 bhp @ 4000 rpm       190 Nm @ 2000 rpm               5.0   \n",
       "2   79 bhp @ 6000 rpm  112.7619 Nm @ 4000 rpm               5.0   \n",
       "3   82 bhp @ 6000 rpm       113 Nm @ 4200 rpm               5.0   \n",
       "4  148 bhp @ 3400 rpm       343 Nm @ 1400 rpm               7.0   \n",
       "\n",
       "   fuel tank capacity  \n",
       "0                35.0  \n",
       "1                42.0  \n",
       "2                35.0  \n",
       "3                37.0  \n",
       "4                55.0  "
      ]
     },
     "execution_count": 120,
     "metadata": {},
     "output_type": "execute_result"
    }
   ],
   "source": [
    "df.head()"
   ]
  },
  {
   "cell_type": "code",
   "execution_count": 121,
   "metadata": {},
   "outputs": [
    {
     "data": {
      "text/plain": [
       "80"
      ]
     },
     "execution_count": 121,
     "metadata": {},
     "output_type": "execute_result"
    }
   ],
   "source": [
    "# missing values in max power\n",
    "df['max power'].isna().sum()"
   ]
  },
  {
   "cell_type": "code",
   "execution_count": 122,
   "metadata": {},
   "outputs": [
    {
     "data": {
      "text/plain": [
       "count                  1979\n",
       "unique                  335\n",
       "top       89 bhp @ 4000 rpm\n",
       "freq                     90\n",
       "Name: max power, dtype: object"
      ]
     },
     "execution_count": 122,
     "metadata": {},
     "output_type": "execute_result"
    }
   ],
   "source": [
    "# describe max power\n",
    "df['max power'].describe()"
   ]
  },
  {
   "cell_type": "code",
   "execution_count": 123,
   "metadata": {},
   "outputs": [],
   "source": [
    "# remove column max power\n",
    "df.drop('max power', axis=1, inplace=True)"
   ]
  },
  {
   "cell_type": "code",
   "execution_count": 124,
   "metadata": {},
   "outputs": [],
   "source": [
    "# remove columns max torque\n",
    "df.drop('max torque', axis=1, inplace=True)"
   ]
  },
  {
   "cell_type": "markdown",
   "metadata": {},
   "source": [
    "## Feature: engine"
   ]
  },
  {
   "cell_type": "code",
   "execution_count": 125,
   "metadata": {},
   "outputs": [
    {
     "data": {
      "text/plain": [
       "array(['1198 cc', '1248 cc', '1197 cc', '2393 cc', '1373 cc', '1991 cc',\n",
       "       '1995 cc', '1798 cc', '1461 cc', '999 cc', '1462 cc', '1956 cc',\n",
       "       '998 cc', '796 cc', '1591 cc', '1086 cc', '1199 cc', '1582 cc',\n",
       "       nan, '1047 cc', '2143 cc', '1968 cc', '1796 cc', '2498 cc',\n",
       "       '2494 cc', '2179 cc', '1998 cc', '1497 cc', '1196 cc', '2755 cc',\n",
       "       '1799 cc', '1493 cc', '1399 cc', '1498 cc', '1997 cc', '1598 cc',\n",
       "       '2993 cc', '2995 cc', '2982 cc', '1353 cc', '1984 cc', '2967 cc',\n",
       "       '2609 cc', '1950 cc', '1999 cc', '4663 cc', '1451 cc', '2354 cc',\n",
       "       '1396 cc', '2987 cc', '2997 cc', '1336 cc', '4163 cc', '3496 cc',\n",
       "       '799 cc', '2979 cc', '4806 cc', '2996 cc', '1061 cc', '2184 cc',\n",
       "       '2497 cc', '2999 cc', '1948 cc', '3436 cc', '2925 cc', '2489 cc',\n",
       "       '1368 cc', '1797 cc', '1298 cc', '2694 cc', '1186 cc', '1364 cc',\n",
       "       '3498 cc', '3982 cc', '1120 cc', '2523 cc', '1988 cc', '3902 cc',\n",
       "       '624 cc', '2477 cc', '3198 cc', '5204 cc', '814 cc', '2953 cc',\n",
       "       '1496 cc', '1499 cc', '1996 cc', '5461 cc', '1395 cc', '2835 cc',\n",
       "       '2148 cc', '2696 cc', '1794 cc', '1969 cc', '6592 cc', '2199 cc',\n",
       "       '4951 cc', '1495 cc', '2487 cc', '2998 cc', '2198 cc', '2157 cc',\n",
       "       '1595 cc', '1586 cc', '936 cc', '1332 cc', '2400 cc', '793 cc',\n",
       "       '995 cc'], dtype=object)"
      ]
     },
     "execution_count": 125,
     "metadata": {},
     "output_type": "execute_result"
    }
   ],
   "source": [
    "# unique values in engine \n",
    "df['engine'].unique()"
   ]
  },
  {
   "cell_type": "code",
   "execution_count": 126,
   "metadata": {},
   "outputs": [
    {
     "data": {
      "text/plain": [
       "80"
      ]
     },
     "execution_count": 126,
     "metadata": {},
     "output_type": "execute_result"
    }
   ],
   "source": [
    "# missing values in engine\n",
    "df['engine'].isna().sum()"
   ]
  },
  {
   "cell_type": "code",
   "execution_count": 127,
   "metadata": {},
   "outputs": [
    {
     "data": {
      "text/plain": [
       "count        1979\n",
       "unique        108\n",
       "top       1197 cc\n",
       "freq          231\n",
       "Name: engine, dtype: object"
      ]
     },
     "execution_count": 127,
     "metadata": {},
     "output_type": "execute_result"
    }
   ],
   "source": [
    "# describe engine\n",
    "df['engine'].describe()"
   ]
  },
  {
   "cell_type": "code",
   "execution_count": 128,
   "metadata": {},
   "outputs": [
    {
     "name": "stderr",
     "output_type": "stream",
     "text": [
      "C:\\Users\\Gokuleshwaran\\AppData\\Local\\Temp\\ipykernel_9924\\2357243785.py:3: FutureWarning: A value is trying to be set on a copy of a DataFrame or Series through chained assignment using an inplace method.\n",
      "The behavior will change in pandas 3.0. This inplace method will never work because the intermediate object on which we are setting values always behaves as a copy.\n",
      "\n",
      "For example, when doing 'df[col].method(value, inplace=True)', try using 'df.method({col: value}, inplace=True)' or df[col] = df[col].method(value) instead, to perform the operation inplace on the original object.\n",
      "\n",
      "\n",
      "  df['engine'].fillna(df['engine'].mean(), inplace=True)\n"
     ]
    }
   ],
   "source": [
    "# fill missing values with mean of non missing values after extracting the numerical part\n",
    "df['engine'] = df['engine'].str.extract('(\\d+)').astype(float)\n",
    "df['engine'].fillna(df['engine'].mean(), inplace=True)"
   ]
  },
  {
   "cell_type": "code",
   "execution_count": 129,
   "metadata": {},
   "outputs": [
    {
     "data": {
      "text/html": [
       "<div>\n",
       "<style scoped>\n",
       "    .dataframe tbody tr th:only-of-type {\n",
       "        vertical-align: middle;\n",
       "    }\n",
       "\n",
       "    .dataframe tbody tr th {\n",
       "        vertical-align: top;\n",
       "    }\n",
       "\n",
       "    .dataframe thead th {\n",
       "        text-align: right;\n",
       "    }\n",
       "</style>\n",
       "<table border=\"1\" class=\"dataframe\">\n",
       "  <thead>\n",
       "    <tr style=\"text-align: right;\">\n",
       "      <th></th>\n",
       "      <th>make</th>\n",
       "      <th>model</th>\n",
       "      <th>price</th>\n",
       "      <th>year</th>\n",
       "      <th>kilometer</th>\n",
       "      <th>fuel type</th>\n",
       "      <th>transmission</th>\n",
       "      <th>color</th>\n",
       "      <th>owner</th>\n",
       "      <th>seller type</th>\n",
       "      <th>engine</th>\n",
       "      <th>seating capacity</th>\n",
       "      <th>fuel tank capacity</th>\n",
       "    </tr>\n",
       "  </thead>\n",
       "  <tbody>\n",
       "    <tr>\n",
       "      <th>0</th>\n",
       "      <td>Honda</td>\n",
       "      <td>Amaze 1.2 VX i-VTEC</td>\n",
       "      <td>505000</td>\n",
       "      <td>2017</td>\n",
       "      <td>87150</td>\n",
       "      <td>Petrol</td>\n",
       "      <td>Manual</td>\n",
       "      <td>Grey</td>\n",
       "      <td>First</td>\n",
       "      <td>Corporate</td>\n",
       "      <td>1198.0</td>\n",
       "      <td>5.0</td>\n",
       "      <td>35.0</td>\n",
       "    </tr>\n",
       "    <tr>\n",
       "      <th>1</th>\n",
       "      <td>Maruti Suzuki</td>\n",
       "      <td>Swift DZire VDI</td>\n",
       "      <td>450000</td>\n",
       "      <td>2014</td>\n",
       "      <td>75000</td>\n",
       "      <td>Diesel</td>\n",
       "      <td>Manual</td>\n",
       "      <td>White</td>\n",
       "      <td>Second</td>\n",
       "      <td>Individual</td>\n",
       "      <td>1248.0</td>\n",
       "      <td>5.0</td>\n",
       "      <td>42.0</td>\n",
       "    </tr>\n",
       "    <tr>\n",
       "      <th>2</th>\n",
       "      <td>Hyundai</td>\n",
       "      <td>i10 Magna 1.2 Kappa2</td>\n",
       "      <td>220000</td>\n",
       "      <td>2011</td>\n",
       "      <td>67000</td>\n",
       "      <td>Petrol</td>\n",
       "      <td>Manual</td>\n",
       "      <td>Maroon</td>\n",
       "      <td>First</td>\n",
       "      <td>Individual</td>\n",
       "      <td>1197.0</td>\n",
       "      <td>5.0</td>\n",
       "      <td>35.0</td>\n",
       "    </tr>\n",
       "    <tr>\n",
       "      <th>3</th>\n",
       "      <td>Toyota</td>\n",
       "      <td>Glanza G</td>\n",
       "      <td>799000</td>\n",
       "      <td>2019</td>\n",
       "      <td>37500</td>\n",
       "      <td>Petrol</td>\n",
       "      <td>Manual</td>\n",
       "      <td>Red</td>\n",
       "      <td>First</td>\n",
       "      <td>Individual</td>\n",
       "      <td>1197.0</td>\n",
       "      <td>5.0</td>\n",
       "      <td>37.0</td>\n",
       "    </tr>\n",
       "    <tr>\n",
       "      <th>4</th>\n",
       "      <td>Toyota</td>\n",
       "      <td>Innova 2.4 VX 7 STR [2016-2020]</td>\n",
       "      <td>1950000</td>\n",
       "      <td>2018</td>\n",
       "      <td>69000</td>\n",
       "      <td>Diesel</td>\n",
       "      <td>Manual</td>\n",
       "      <td>Grey</td>\n",
       "      <td>First</td>\n",
       "      <td>Individual</td>\n",
       "      <td>2393.0</td>\n",
       "      <td>7.0</td>\n",
       "      <td>55.0</td>\n",
       "    </tr>\n",
       "  </tbody>\n",
       "</table>\n",
       "</div>"
      ],
      "text/plain": [
       "            make                            model    price  year  kilometer  \\\n",
       "0          Honda              Amaze 1.2 VX i-VTEC   505000  2017      87150   \n",
       "1  Maruti Suzuki                  Swift DZire VDI   450000  2014      75000   \n",
       "2        Hyundai             i10 Magna 1.2 Kappa2   220000  2011      67000   \n",
       "3         Toyota                         Glanza G   799000  2019      37500   \n",
       "4         Toyota  Innova 2.4 VX 7 STR [2016-2020]  1950000  2018      69000   \n",
       "\n",
       "  fuel type transmission   color   owner seller type  engine  \\\n",
       "0    Petrol       Manual    Grey   First   Corporate  1198.0   \n",
       "1    Diesel       Manual   White  Second  Individual  1248.0   \n",
       "2    Petrol       Manual  Maroon   First  Individual  1197.0   \n",
       "3    Petrol       Manual     Red   First  Individual  1197.0   \n",
       "4    Diesel       Manual    Grey   First  Individual  2393.0   \n",
       "\n",
       "   seating capacity  fuel tank capacity  \n",
       "0               5.0                35.0  \n",
       "1               5.0                42.0  \n",
       "2               5.0                35.0  \n",
       "3               5.0                37.0  \n",
       "4               7.0                55.0  "
      ]
     },
     "execution_count": 129,
     "metadata": {},
     "output_type": "execute_result"
    }
   ],
   "source": [
    "df.head()"
   ]
  },
  {
   "cell_type": "code",
   "execution_count": 130,
   "metadata": {},
   "outputs": [
    {
     "name": "stdout",
     "output_type": "stream",
     "text": [
      "<class 'pandas.core.frame.DataFrame'>\n",
      "RangeIndex: 2059 entries, 0 to 2058\n",
      "Data columns (total 13 columns):\n",
      " #   Column              Non-Null Count  Dtype  \n",
      "---  ------              --------------  -----  \n",
      " 0   make                2059 non-null   object \n",
      " 1   model               2059 non-null   object \n",
      " 2   price               2059 non-null   int64  \n",
      " 3   year                2059 non-null   int64  \n",
      " 4   kilometer           2059 non-null   int64  \n",
      " 5   fuel type           2059 non-null   object \n",
      " 6   transmission        2059 non-null   object \n",
      " 7   color               2059 non-null   object \n",
      " 8   owner               2059 non-null   object \n",
      " 9   seller type         2059 non-null   object \n",
      " 10  engine              2059 non-null   float64\n",
      " 11  seating capacity    1995 non-null   float64\n",
      " 12  fuel tank capacity  2059 non-null   float64\n",
      "dtypes: float64(3), int64(3), object(7)\n",
      "memory usage: 209.2+ KB\n"
     ]
    }
   ],
   "source": [
    "# check for missing values\n",
    "df.info()"
   ]
  },
  {
   "cell_type": "code",
   "execution_count": 131,
   "metadata": {},
   "outputs": [
    {
     "name": "stdout",
     "output_type": "stream",
     "text": [
      "<class 'pandas.core.frame.DataFrame'>\n",
      "RangeIndex: 2059 entries, 0 to 2058\n",
      "Data columns (total 13 columns):\n",
      " #   Column              Non-Null Count  Dtype  \n",
      "---  ------              --------------  -----  \n",
      " 0   make                2059 non-null   object \n",
      " 1   model               2059 non-null   object \n",
      " 2   price               2059 non-null   int64  \n",
      " 3   year                2059 non-null   int64  \n",
      " 4   kilometer           2059 non-null   int64  \n",
      " 5   fuel type           2059 non-null   object \n",
      " 6   transmission        2059 non-null   object \n",
      " 7   color               2059 non-null   object \n",
      " 8   owner               2059 non-null   object \n",
      " 9   seller type         2059 non-null   object \n",
      " 10  engine              2059 non-null   float64\n",
      " 11  seating capacity    1995 non-null   float64\n",
      " 12  fuel tank capacity  2059 non-null   float64\n",
      "dtypes: float64(3), int64(3), object(7)\n",
      "memory usage: 209.2+ KB\n"
     ]
    }
   ],
   "source": [
    "# info\n",
    "df.info()"
   ]
  },
  {
   "cell_type": "markdown",
   "metadata": {},
   "source": [
    "## Feature: model"
   ]
  },
  {
   "cell_type": "code",
   "execution_count": 132,
   "metadata": {},
   "outputs": [
    {
     "data": {
      "text/plain": [
       "1050"
      ]
     },
     "execution_count": 132,
     "metadata": {},
     "output_type": "execute_result"
    }
   ],
   "source": [
    "# unique values in model\n",
    "len(df['model'].unique())"
   ]
  },
  {
   "cell_type": "code",
   "execution_count": 133,
   "metadata": {},
   "outputs": [
    {
     "data": {
      "text/plain": [
       "model\n",
       "X1 sDrive20d xLine                 15\n",
       "Swift DZire VDI                    14\n",
       "City V                             13\n",
       "Fortuner 2.8 4x2 AT [2016-2020]    13\n",
       "Swift DZire VXI                    12\n",
       "                                   ..\n",
       "XF R 5.0 V8 Supercharged            1\n",
       "Pajero SFX 2.8                      1\n",
       "Etios G                             1\n",
       "Marazzo M6 Plus 8 STR               1\n",
       "Figo Duratec Petrol ZXI 1.2         1\n",
       "Name: count, Length: 1050, dtype: int64"
      ]
     },
     "execution_count": 133,
     "metadata": {},
     "output_type": "execute_result"
    }
   ],
   "source": [
    "# value counts of model\n",
    "df['model'].value_counts()"
   ]
  },
  {
   "cell_type": "code",
   "execution_count": 134,
   "metadata": {},
   "outputs": [],
   "source": [
    "# remove the column model\n",
    "df.drop('model', axis=1, inplace=True)"
   ]
  },
  {
   "cell_type": "markdown",
   "metadata": {},
   "source": [
    "## Feature: make"
   ]
  },
  {
   "cell_type": "code",
   "execution_count": 135,
   "metadata": {},
   "outputs": [
    {
     "data": {
      "text/plain": [
       "array(['Honda', 'Maruti Suzuki', 'Hyundai', 'Toyota', 'Mercedes-Benz',\n",
       "       'BMW', 'Skoda', 'Nissan', 'Renault', 'Tata', 'Volkswagen', 'Ford',\n",
       "       'Audi', 'Mahindra', 'MG', 'Jeep', 'Porsche', 'Kia', 'Land Rover',\n",
       "       'Volvo', 'Maserati', 'Jaguar', 'Isuzu', 'Fiat', 'MINI', 'Ferrari',\n",
       "       'Mitsubishi', 'Datsun', 'Lamborghini', 'Chevrolet', 'Ssangyong',\n",
       "       'Rolls-Royce', 'Lexus'], dtype=object)"
      ]
     },
     "execution_count": 135,
     "metadata": {},
     "output_type": "execute_result"
    }
   ],
   "source": [
    "# unique values in make column\n",
    "df['make'].unique()"
   ]
  },
  {
   "cell_type": "markdown",
   "metadata": {},
   "source": [
    "## Feature seating capacity"
   ]
  },
  {
   "cell_type": "code",
   "execution_count": 136,
   "metadata": {},
   "outputs": [
    {
     "data": {
      "text/plain": [
       "array([ 5.,  7.,  4., nan,  8.,  2.,  6.])"
      ]
     },
     "execution_count": 136,
     "metadata": {},
     "output_type": "execute_result"
    }
   ],
   "source": [
    "# unique values in seating capacity\n",
    "df['seating capacity'].unique()"
   ]
  },
  {
   "cell_type": "code",
   "execution_count": 137,
   "metadata": {},
   "outputs": [
    {
     "data": {
      "text/plain": [
       "count    1995.000000\n",
       "mean        5.306266\n",
       "std         0.822170\n",
       "min         2.000000\n",
       "25%         5.000000\n",
       "50%         5.000000\n",
       "75%         5.000000\n",
       "max         8.000000\n",
       "Name: seating capacity, dtype: float64"
      ]
     },
     "execution_count": 137,
     "metadata": {},
     "output_type": "execute_result"
    }
   ],
   "source": [
    "# describe seating capacity\n",
    "df['seating capacity'].describe()"
   ]
  },
  {
   "cell_type": "code",
   "execution_count": 138,
   "metadata": {},
   "outputs": [
    {
     "data": {
      "text/plain": [
       "<Axes: >"
      ]
     },
     "execution_count": 138,
     "metadata": {},
     "output_type": "execute_result"
    },
    {
     "data": {
      "image/png": "[encoded data removed]",
      "text/plain": [
       "<Figure size 640x480 with 1 Axes>"
      ]
     },
     "metadata": {},
     "output_type": "display_data"
    }
   ],
   "source": [
    "# hist\n",
    "df['seating capacity'].hist()"
   ]
  },
  {
   "cell_type": "code",
   "execution_count": 139,
   "metadata": {},
   "outputs": [
    {
     "name": "stderr",
     "output_type": "stream",
     "text": [
      "C:\\Users\\Gokuleshwaran\\AppData\\Local\\Temp\\ipykernel_9924\\1759272229.py:2: FutureWarning: A value is trying to be set on a copy of a DataFrame or Series through chained assignment using an inplace method.\n",
      "The behavior will change in pandas 3.0. This inplace method will never work because the intermediate object on which we are setting values always behaves as a copy.\n",
      "\n",
      "For example, when doing 'df[col].method(value, inplace=True)', try using 'df.method({col: value}, inplace=True)' or df[col] = df[col].method(value) instead, to perform the operation inplace on the original object.\n",
      "\n",
      "\n",
      "  df['seating capacity'].fillna(df['seating capacity'].mode()[0], inplace=True)\n"
     ]
    }
   ],
   "source": [
    "# fill missing values with mode\n",
    "df['seating capacity'].fillna(df['seating capacity'].mode()[0], inplace=True)"
   ]
  },
  {
   "cell_type": "code",
   "execution_count": 140,
   "metadata": {},
   "outputs": [
    {
     "name": "stdout",
     "output_type": "stream",
     "text": [
      "<class 'pandas.core.frame.DataFrame'>\n",
      "RangeIndex: 2059 entries, 0 to 2058\n",
      "Data columns (total 12 columns):\n",
      " #   Column              Non-Null Count  Dtype  \n",
      "---  ------              --------------  -----  \n",
      " 0   make                2059 non-null   object \n",
      " 1   price               2059 non-null   int64  \n",
      " 2   year                2059 non-null   int64  \n",
      " 3   kilometer           2059 non-null   int64  \n",
      " 4   fuel type           2059 non-null   object \n",
      " 5   transmission        2059 non-null   object \n",
      " 6   color               2059 non-null   object \n",
      " 7   owner               2059 non-null   object \n",
      " 8   seller type         2059 non-null   object \n",
      " 9   engine              2059 non-null   float64\n",
      " 10  seating capacity    2059 non-null   float64\n",
      " 11  fuel tank capacity  2059 non-null   float64\n",
      "dtypes: float64(3), int64(3), object(6)\n",
      "memory usage: 193.2+ KB\n"
     ]
    }
   ],
   "source": [
    "df.info()"
   ]
  },
  {
   "cell_type": "markdown",
   "metadata": {},
   "source": [
    "## Feature: seller type"
   ]
  },
  {
   "cell_type": "code",
   "execution_count": 141,
   "metadata": {},
   "outputs": [
    {
     "data": {
      "text/plain": [
       "array(['Corporate', 'Individual', 'Commercial Registration'], dtype=object)"
      ]
     },
     "execution_count": 141,
     "metadata": {},
     "output_type": "execute_result"
    }
   ],
   "source": [
    "# unique values in seller type\n",
    "df['seller type'].unique()"
   ]
  },
  {
   "cell_type": "markdown",
   "metadata": {},
   "source": [
    "## Feature: owner"
   ]
  },
  {
   "cell_type": "code",
   "execution_count": 142,
   "metadata": {},
   "outputs": [
    {
     "data": {
      "text/plain": [
       "array(['First', 'Second', 'Third', 'Fourth', 'UnRegistered Car',\n",
       "       '4 or More'], dtype=object)"
      ]
     },
     "execution_count": 142,
     "metadata": {},
     "output_type": "execute_result"
    }
   ],
   "source": [
    "# unique values in owner column\n",
    "df['owner'].unique()"
   ]
  },
  {
   "cell_type": "markdown",
   "metadata": {},
   "source": [
    "## Feature: color"
   ]
  },
  {
   "cell_type": "code",
   "execution_count": 143,
   "metadata": {},
   "outputs": [
    {
     "data": {
      "text/plain": [
       "array(['Grey', 'White', 'Maroon', 'Red', 'Blue', 'Orange', 'Silver',\n",
       "       'Brown', 'Black', 'Bronze', 'Gold', 'Beige', 'Green', 'Yellow',\n",
       "       'Purple', 'Others', 'Pink'], dtype=object)"
      ]
     },
     "execution_count": 143,
     "metadata": {},
     "output_type": "execute_result"
    }
   ],
   "source": [
    "# unique values in column color\n",
    "df['color'].unique()"
   ]
  },
  {
   "cell_type": "markdown",
   "metadata": {},
   "source": [
    "## Feature: fuel type"
   ]
  },
  {
   "cell_type": "code",
   "execution_count": 144,
   "metadata": {},
   "outputs": [
    {
     "data": {
      "text/plain": [
       "array(['Petrol', 'Diesel', 'CNG', 'LPG', 'Electric', 'CNG + CNG',\n",
       "       'Hybrid', 'Petrol + CNG', 'Petrol + LPG'], dtype=object)"
      ]
     },
     "execution_count": 144,
     "metadata": {},
     "output_type": "execute_result"
    }
   ],
   "source": [
    "# unique values in fuel type\n",
    "df['fuel type'].unique()"
   ]
  },
  {
   "cell_type": "markdown",
   "metadata": {},
   "source": [
    "## Feature: transmission"
   ]
  },
  {
   "cell_type": "code",
   "execution_count": 145,
   "metadata": {},
   "outputs": [
    {
     "data": {
      "text/plain": [
       "array(['Manual', 'Automatic'], dtype=object)"
      ]
     },
     "execution_count": 145,
     "metadata": {},
     "output_type": "execute_result"
    }
   ],
   "source": [
    "# unique values in transmission\n",
    "df['transmission'].unique()"
   ]
  },
  {
   "cell_type": "code",
   "execution_count": 146,
   "metadata": {},
   "outputs": [
    {
     "data": {
      "text/html": [
       "<div>\n",
       "<style scoped>\n",
       "    .dataframe tbody tr th:only-of-type {\n",
       "        vertical-align: middle;\n",
       "    }\n",
       "\n",
       "    .dataframe tbody tr th {\n",
       "        vertical-align: top;\n",
       "    }\n",
       "\n",
       "    .dataframe thead th {\n",
       "        text-align: right;\n",
       "    }\n",
       "</style>\n",
       "<table border=\"1\" class=\"dataframe\">\n",
       "  <thead>\n",
       "    <tr style=\"text-align: right;\">\n",
       "      <th></th>\n",
       "      <th>make</th>\n",
       "      <th>price</th>\n",
       "      <th>year</th>\n",
       "      <th>kilometer</th>\n",
       "      <th>fuel type</th>\n",
       "      <th>transmission</th>\n",
       "      <th>color</th>\n",
       "      <th>owner</th>\n",
       "      <th>seller type</th>\n",
       "      <th>engine</th>\n",
       "      <th>seating capacity</th>\n",
       "      <th>fuel tank capacity</th>\n",
       "    </tr>\n",
       "  </thead>\n",
       "  <tbody>\n",
       "    <tr>\n",
       "      <th>0</th>\n",
       "      <td>Honda</td>\n",
       "      <td>505000</td>\n",
       "      <td>2017</td>\n",
       "      <td>87150</td>\n",
       "      <td>Petrol</td>\n",
       "      <td>Manual</td>\n",
       "      <td>Grey</td>\n",
       "      <td>First</td>\n",
       "      <td>Corporate</td>\n",
       "      <td>1198.0</td>\n",
       "      <td>5.0</td>\n",
       "      <td>35.0</td>\n",
       "    </tr>\n",
       "    <tr>\n",
       "      <th>1</th>\n",
       "      <td>Maruti Suzuki</td>\n",
       "      <td>450000</td>\n",
       "      <td>2014</td>\n",
       "      <td>75000</td>\n",
       "      <td>Diesel</td>\n",
       "      <td>Manual</td>\n",
       "      <td>White</td>\n",
       "      <td>Second</td>\n",
       "      <td>Individual</td>\n",
       "      <td>1248.0</td>\n",
       "      <td>5.0</td>\n",
       "      <td>42.0</td>\n",
       "    </tr>\n",
       "    <tr>\n",
       "      <th>2</th>\n",
       "      <td>Hyundai</td>\n",
       "      <td>220000</td>\n",
       "      <td>2011</td>\n",
       "      <td>67000</td>\n",
       "      <td>Petrol</td>\n",
       "      <td>Manual</td>\n",
       "      <td>Maroon</td>\n",
       "      <td>First</td>\n",
       "      <td>Individual</td>\n",
       "      <td>1197.0</td>\n",
       "      <td>5.0</td>\n",
       "      <td>35.0</td>\n",
       "    </tr>\n",
       "    <tr>\n",
       "      <th>3</th>\n",
       "      <td>Toyota</td>\n",
       "      <td>799000</td>\n",
       "      <td>2019</td>\n",
       "      <td>37500</td>\n",
       "      <td>Petrol</td>\n",
       "      <td>Manual</td>\n",
       "      <td>Red</td>\n",
       "      <td>First</td>\n",
       "      <td>Individual</td>\n",
       "      <td>1197.0</td>\n",
       "      <td>5.0</td>\n",
       "      <td>37.0</td>\n",
       "    </tr>\n",
       "    <tr>\n",
       "      <th>4</th>\n",
       "      <td>Toyota</td>\n",
       "      <td>1950000</td>\n",
       "      <td>2018</td>\n",
       "      <td>69000</td>\n",
       "      <td>Diesel</td>\n",
       "      <td>Manual</td>\n",
       "      <td>Grey</td>\n",
       "      <td>First</td>\n",
       "      <td>Individual</td>\n",
       "      <td>2393.0</td>\n",
       "      <td>7.0</td>\n",
       "      <td>55.0</td>\n",
       "    </tr>\n",
       "  </tbody>\n",
       "</table>\n",
       "</div>"
      ],
      "text/plain": [
       "            make    price  year  kilometer fuel type transmission   color  \\\n",
       "0          Honda   505000  2017      87150    Petrol       Manual    Grey   \n",
       "1  Maruti Suzuki   450000  2014      75000    Diesel       Manual   White   \n",
       "2        Hyundai   220000  2011      67000    Petrol       Manual  Maroon   \n",
       "3         Toyota   799000  2019      37500    Petrol       Manual     Red   \n",
       "4         Toyota  1950000  2018      69000    Diesel       Manual    Grey   \n",
       "\n",
       "    owner seller type  engine  seating capacity  fuel tank capacity  \n",
       "0   First   Corporate  1198.0               5.0                35.0  \n",
       "1  Second  Individual  1248.0               5.0                42.0  \n",
       "2   First  Individual  1197.0               5.0                35.0  \n",
       "3   First  Individual  1197.0               5.0                37.0  \n",
       "4   First  Individual  2393.0               7.0                55.0  "
      ]
     },
     "execution_count": 146,
     "metadata": {},
     "output_type": "execute_result"
    }
   ],
   "source": [
    "df.head()"
   ]
  },
  {
   "cell_type": "code",
   "execution_count": 147,
   "metadata": {},
   "outputs": [
    {
     "name": "stdout",
     "output_type": "stream",
     "text": [
      "<class 'pandas.core.frame.DataFrame'>\n",
      "RangeIndex: 2059 entries, 0 to 2058\n",
      "Data columns (total 12 columns):\n",
      " #   Column              Non-Null Count  Dtype  \n",
      "---  ------              --------------  -----  \n",
      " 0   make                2059 non-null   object \n",
      " 1   price               2059 non-null   int64  \n",
      " 2   year                2059 non-null   int64  \n",
      " 3   kilometer           2059 non-null   int64  \n",
      " 4   fuel type           2059 non-null   object \n",
      " 5   transmission        2059 non-null   object \n",
      " 6   color               2059 non-null   object \n",
      " 7   owner               2059 non-null   object \n",
      " 8   seller type         2059 non-null   object \n",
      " 9   engine              2059 non-null   float64\n",
      " 10  seating capacity    2059 non-null   float64\n",
      " 11  fuel tank capacity  2059 non-null   float64\n",
      "dtypes: float64(3), int64(3), object(6)\n",
      "memory usage: 193.2+ KB\n"
     ]
    }
   ],
   "source": [
    "df.info()\n"
   ]
  },
  {
   "cell_type": "markdown",
   "metadata": {},
   "source": [
    "# 4. Feature engineering \n",
    "- Invent new features"
   ]
  },
  {
   "cell_type": "code",
   "execution_count": 149,
   "metadata": {},
   "outputs": [],
   "source": [
    "# Nothing to add here"
   ]
  },
  {
   "cell_type": "markdown",
   "metadata": {},
   "source": [
    "# 5. Clean Data:\n",
    "- Outlier Removal"
   ]
  },
  {
   "cell_type": "code",
   "execution_count": 152,
   "metadata": {},
   "outputs": [],
   "source": [
    "# save the cleaned data\n",
    "df.to_csv('cleaned_car_data.csv', index=False)"
   ]
  },
  {
   "cell_type": "markdown",
   "metadata": {},
   "source": [
    "# 6. Split the data into x and y label"
   ]
  },
  {
   "cell_type": "code",
   "execution_count": 81,
   "metadata": {},
   "outputs": [
    {
     "data": {
      "text/html": [
       "<div>\n",
       "<style scoped>\n",
       "    .dataframe tbody tr th:only-of-type {\n",
       "        vertical-align: middle;\n",
       "    }\n",
       "\n",
       "    .dataframe tbody tr th {\n",
       "        vertical-align: top;\n",
       "    }\n",
       "\n",
       "    .dataframe thead th {\n",
       "        text-align: right;\n",
       "    }\n",
       "</style>\n",
       "<table border=\"1\" class=\"dataframe\">\n",
       "  <thead>\n",
       "    <tr style=\"text-align: right;\">\n",
       "      <th></th>\n",
       "      <th>make</th>\n",
       "      <th>price</th>\n",
       "      <th>year</th>\n",
       "      <th>kilometer</th>\n",
       "      <th>fuel type</th>\n",
       "      <th>transmission</th>\n",
       "      <th>color</th>\n",
       "      <th>owner</th>\n",
       "      <th>seller type</th>\n",
       "      <th>engine</th>\n",
       "      <th>seating capacity</th>\n",
       "      <th>fuel tank capacity</th>\n",
       "    </tr>\n",
       "  </thead>\n",
       "  <tbody>\n",
       "    <tr>\n",
       "      <th>0</th>\n",
       "      <td>Honda</td>\n",
       "      <td>505000</td>\n",
       "      <td>2017</td>\n",
       "      <td>87150</td>\n",
       "      <td>Petrol</td>\n",
       "      <td>Manual</td>\n",
       "      <td>Grey</td>\n",
       "      <td>First</td>\n",
       "      <td>Corporate</td>\n",
       "      <td>1198.0</td>\n",
       "      <td>5.0</td>\n",
       "      <td>35.0</td>\n",
       "    </tr>\n",
       "    <tr>\n",
       "      <th>1</th>\n",
       "      <td>Maruti Suzuki</td>\n",
       "      <td>450000</td>\n",
       "      <td>2014</td>\n",
       "      <td>75000</td>\n",
       "      <td>Diesel</td>\n",
       "      <td>Manual</td>\n",
       "      <td>White</td>\n",
       "      <td>Second</td>\n",
       "      <td>Individual</td>\n",
       "      <td>1248.0</td>\n",
       "      <td>5.0</td>\n",
       "      <td>42.0</td>\n",
       "    </tr>\n",
       "    <tr>\n",
       "      <th>2</th>\n",
       "      <td>Hyundai</td>\n",
       "      <td>220000</td>\n",
       "      <td>2011</td>\n",
       "      <td>67000</td>\n",
       "      <td>Petrol</td>\n",
       "      <td>Manual</td>\n",
       "      <td>Maroon</td>\n",
       "      <td>First</td>\n",
       "      <td>Individual</td>\n",
       "      <td>1197.0</td>\n",
       "      <td>5.0</td>\n",
       "      <td>35.0</td>\n",
       "    </tr>\n",
       "    <tr>\n",
       "      <th>3</th>\n",
       "      <td>Toyota</td>\n",
       "      <td>799000</td>\n",
       "      <td>2019</td>\n",
       "      <td>37500</td>\n",
       "      <td>Petrol</td>\n",
       "      <td>Manual</td>\n",
       "      <td>Red</td>\n",
       "      <td>First</td>\n",
       "      <td>Individual</td>\n",
       "      <td>1197.0</td>\n",
       "      <td>5.0</td>\n",
       "      <td>37.0</td>\n",
       "    </tr>\n",
       "    <tr>\n",
       "      <th>4</th>\n",
       "      <td>Toyota</td>\n",
       "      <td>1950000</td>\n",
       "      <td>2018</td>\n",
       "      <td>69000</td>\n",
       "      <td>Diesel</td>\n",
       "      <td>Manual</td>\n",
       "      <td>Grey</td>\n",
       "      <td>First</td>\n",
       "      <td>Individual</td>\n",
       "      <td>2393.0</td>\n",
       "      <td>7.0</td>\n",
       "      <td>55.0</td>\n",
       "    </tr>\n",
       "  </tbody>\n",
       "</table>\n",
       "</div>"
      ],
      "text/plain": [
       "            make    price  year  kilometer fuel type transmission   color  \\\n",
       "0          Honda   505000  2017      87150    Petrol       Manual    Grey   \n",
       "1  Maruti Suzuki   450000  2014      75000    Diesel       Manual   White   \n",
       "2        Hyundai   220000  2011      67000    Petrol       Manual  Maroon   \n",
       "3         Toyota   799000  2019      37500    Petrol       Manual     Red   \n",
       "4         Toyota  1950000  2018      69000    Diesel       Manual    Grey   \n",
       "\n",
       "    owner seller type  engine  seating capacity  fuel tank capacity  \n",
       "0   First   Corporate  1198.0               5.0                35.0  \n",
       "1  Second  Individual  1248.0               5.0                42.0  \n",
       "2   First  Individual  1197.0               5.0                35.0  \n",
       "3   First  Individual  1197.0               5.0                37.0  \n",
       "4   First  Individual  2393.0               7.0                55.0  "
      ]
     },
     "execution_count": 81,
     "metadata": {},
     "output_type": "execute_result"
    }
   ],
   "source": [
    "# load the cleaned data\n",
    "df = pd.read_csv('cleaned_car_data.csv')\n",
    "df.head()"
   ]
  },
  {
   "cell_type": "code",
   "execution_count": 82,
   "metadata": {},
   "outputs": [],
   "source": [
    "x = df.drop('price', axis=1)\n",
    "y = df['price']"
   ]
  },
  {
   "cell_type": "markdown",
   "metadata": {},
   "source": [
    "# 7. Split the data into x_train, x_test, y_train, y_test"
   ]
  },
  {
   "cell_type": "code",
   "execution_count": 83,
   "metadata": {},
   "outputs": [],
   "source": [
    "# split the data\n",
    "from sklearn.model_selection import train_test_split\n",
    "x_train, x_test, y_train, y_test = train_test_split(x, y, test_size=0.2, random_state=42)"
   ]
  },
  {
   "cell_type": "markdown",
   "metadata": {},
   "source": [
    "# 8. Handling missing values\n",
    "- Dropping rows and columns based on null values\n",
    "- Filling missing data with pandas\n",
    "- Filling missing values with sklearn\n",
    "- Add _is_missing column"
   ]
  },
  {
   "cell_type": "code",
   "execution_count": 84,
   "metadata": {},
   "outputs": [],
   "source": [
    "# No missing values"
   ]
  },
  {
   "cell_type": "markdown",
   "metadata": {},
   "source": [
    "# 9. Sort or Add columns \n",
    "- x_train.shape == x_valid.shape"
   ]
  },
  {
   "cell_type": "code",
   "execution_count": 85,
   "metadata": {},
   "outputs": [
    {
     "data": {
      "text/plain": [
       "((1647, 11), (412, 11))"
      ]
     },
     "execution_count": 85,
     "metadata": {},
     "output_type": "execute_result"
    }
   ],
   "source": [
    "x_train.shape, x_test.shape"
   ]
  },
  {
   "cell_type": "markdown",
   "metadata": {},
   "source": [
    "# 10. Feature scaling"
   ]
  },
  {
   "cell_type": "code",
   "execution_count": 86,
   "metadata": {},
   "outputs": [
    {
     "data": {
      "text/html": [
       "<div>\n",
       "<style scoped>\n",
       "    .dataframe tbody tr th:only-of-type {\n",
       "        vertical-align: middle;\n",
       "    }\n",
       "\n",
       "    .dataframe tbody tr th {\n",
       "        vertical-align: top;\n",
       "    }\n",
       "\n",
       "    .dataframe thead th {\n",
       "        text-align: right;\n",
       "    }\n",
       "</style>\n",
       "<table border=\"1\" class=\"dataframe\">\n",
       "  <thead>\n",
       "    <tr style=\"text-align: right;\">\n",
       "      <th></th>\n",
       "      <th>make</th>\n",
       "      <th>year</th>\n",
       "      <th>kilometer</th>\n",
       "      <th>fuel type</th>\n",
       "      <th>transmission</th>\n",
       "      <th>color</th>\n",
       "      <th>owner</th>\n",
       "      <th>seller type</th>\n",
       "      <th>engine</th>\n",
       "      <th>seating capacity</th>\n",
       "      <th>fuel tank capacity</th>\n",
       "    </tr>\n",
       "  </thead>\n",
       "  <tbody>\n",
       "    <tr>\n",
       "      <th>266</th>\n",
       "      <td>BMW</td>\n",
       "      <td>2012</td>\n",
       "      <td>75576</td>\n",
       "      <td>Diesel</td>\n",
       "      <td>Automatic</td>\n",
       "      <td>White</td>\n",
       "      <td>Second</td>\n",
       "      <td>Individual</td>\n",
       "      <td>1692.575543</td>\n",
       "      <td>5.0</td>\n",
       "      <td>52.00221</td>\n",
       "    </tr>\n",
       "    <tr>\n",
       "      <th>1133</th>\n",
       "      <td>BMW</td>\n",
       "      <td>2016</td>\n",
       "      <td>77000</td>\n",
       "      <td>Diesel</td>\n",
       "      <td>Automatic</td>\n",
       "      <td>Black</td>\n",
       "      <td>First</td>\n",
       "      <td>Individual</td>\n",
       "      <td>1995.000000</td>\n",
       "      <td>5.0</td>\n",
       "      <td>63.00000</td>\n",
       "    </tr>\n",
       "    <tr>\n",
       "      <th>1823</th>\n",
       "      <td>Mahindra</td>\n",
       "      <td>2017</td>\n",
       "      <td>112000</td>\n",
       "      <td>Diesel</td>\n",
       "      <td>Manual</td>\n",
       "      <td>Silver</td>\n",
       "      <td>First</td>\n",
       "      <td>Individual</td>\n",
       "      <td>1997.000000</td>\n",
       "      <td>7.0</td>\n",
       "      <td>70.00000</td>\n",
       "    </tr>\n",
       "    <tr>\n",
       "      <th>1370</th>\n",
       "      <td>Mercedes-Benz</td>\n",
       "      <td>2021</td>\n",
       "      <td>3000</td>\n",
       "      <td>Diesel</td>\n",
       "      <td>Automatic</td>\n",
       "      <td>White</td>\n",
       "      <td>First</td>\n",
       "      <td>Individual</td>\n",
       "      <td>2925.000000</td>\n",
       "      <td>7.0</td>\n",
       "      <td>90.00000</td>\n",
       "    </tr>\n",
       "    <tr>\n",
       "      <th>67</th>\n",
       "      <td>Toyota</td>\n",
       "      <td>2019</td>\n",
       "      <td>73000</td>\n",
       "      <td>Diesel</td>\n",
       "      <td>Automatic</td>\n",
       "      <td>White</td>\n",
       "      <td>First</td>\n",
       "      <td>Individual</td>\n",
       "      <td>2755.000000</td>\n",
       "      <td>7.0</td>\n",
       "      <td>80.00000</td>\n",
       "    </tr>\n",
       "  </tbody>\n",
       "</table>\n",
       "</div>"
      ],
      "text/plain": [
       "               make  year  kilometer fuel type transmission   color   owner  \\\n",
       "266             BMW  2012      75576    Diesel    Automatic   White  Second   \n",
       "1133            BMW  2016      77000    Diesel    Automatic   Black   First   \n",
       "1823       Mahindra  2017     112000    Diesel       Manual  Silver   First   \n",
       "1370  Mercedes-Benz  2021       3000    Diesel    Automatic   White   First   \n",
       "67           Toyota  2019      73000    Diesel    Automatic   White   First   \n",
       "\n",
       "     seller type       engine  seating capacity  fuel tank capacity  \n",
       "266   Individual  1692.575543               5.0            52.00221  \n",
       "1133  Individual  1995.000000               5.0            63.00000  \n",
       "1823  Individual  1997.000000               7.0            70.00000  \n",
       "1370  Individual  2925.000000               7.0            90.00000  \n",
       "67    Individual  2755.000000               7.0            80.00000  "
      ]
     },
     "execution_count": 86,
     "metadata": {},
     "output_type": "execute_result"
    }
   ],
   "source": [
    "x_train.head()"
   ]
  },
  {
   "cell_type": "markdown",
   "metadata": {},
   "source": [
    "# 11. Convert Categorical Features into Numericals \n",
    "- One hot encoder: Lasso or Ridge\n",
    "- Label encoding: XGBoost and RandomForest\n",
    "- Lower cardinality columns: One hot encoding\n",
    "- High cardinality columns: Target encoding, Ordinal encoding\n",
    "- Convert to category\n",
    "- https://www.kaggle.com/code/gokuleshwaran/feature-engineering-for-house-prices/edit"
   ]
  },
  {
   "cell_type": "code",
   "execution_count": 87,
   "metadata": {},
   "outputs": [],
   "source": [
    "x_train_encoded = pd.get_dummies(x_train, columns=['make', 'seller type', 'owner', 'color', 'fuel type', 'transmission'], drop_first=True)  \n",
    "x_test_encoded = pd.get_dummies(x_test, columns=['make', 'seller type', 'owner', 'color', 'fuel type', 'transmission'], drop_first=True)\n"
   ]
  },
  {
   "cell_type": "code",
   "execution_count": 88,
   "metadata": {},
   "outputs": [
    {
     "data": {
      "text/html": [
       "<div>\n",
       "<style scoped>\n",
       "    .dataframe tbody tr th:only-of-type {\n",
       "        vertical-align: middle;\n",
       "    }\n",
       "\n",
       "    .dataframe tbody tr th {\n",
       "        vertical-align: top;\n",
       "    }\n",
       "\n",
       "    .dataframe thead th {\n",
       "        text-align: right;\n",
       "    }\n",
       "</style>\n",
       "<table border=\"1\" class=\"dataframe\">\n",
       "  <thead>\n",
       "    <tr style=\"text-align: right;\">\n",
       "      <th></th>\n",
       "      <th>year</th>\n",
       "      <th>kilometer</th>\n",
       "      <th>engine</th>\n",
       "      <th>seating capacity</th>\n",
       "      <th>fuel tank capacity</th>\n",
       "      <th>make_BMW</th>\n",
       "      <th>make_Chevrolet</th>\n",
       "      <th>make_Datsun</th>\n",
       "      <th>make_Fiat</th>\n",
       "      <th>make_Ford</th>\n",
       "      <th>...</th>\n",
       "      <th>color_White</th>\n",
       "      <th>color_Yellow</th>\n",
       "      <th>fuel type_CNG + CNG</th>\n",
       "      <th>fuel type_Diesel</th>\n",
       "      <th>fuel type_Electric</th>\n",
       "      <th>fuel type_Hybrid</th>\n",
       "      <th>fuel type_LPG</th>\n",
       "      <th>fuel type_Petrol</th>\n",
       "      <th>fuel type_Petrol + LPG</th>\n",
       "      <th>transmission_Manual</th>\n",
       "    </tr>\n",
       "  </thead>\n",
       "  <tbody>\n",
       "    <tr>\n",
       "      <th>266</th>\n",
       "      <td>2012</td>\n",
       "      <td>75576</td>\n",
       "      <td>1692.575543</td>\n",
       "      <td>5.0</td>\n",
       "      <td>52.00221</td>\n",
       "      <td>True</td>\n",
       "      <td>False</td>\n",
       "      <td>False</td>\n",
       "      <td>False</td>\n",
       "      <td>False</td>\n",
       "      <td>...</td>\n",
       "      <td>True</td>\n",
       "      <td>False</td>\n",
       "      <td>False</td>\n",
       "      <td>True</td>\n",
       "      <td>False</td>\n",
       "      <td>False</td>\n",
       "      <td>False</td>\n",
       "      <td>False</td>\n",
       "      <td>False</td>\n",
       "      <td>False</td>\n",
       "    </tr>\n",
       "    <tr>\n",
       "      <th>1133</th>\n",
       "      <td>2016</td>\n",
       "      <td>77000</td>\n",
       "      <td>1995.000000</td>\n",
       "      <td>5.0</td>\n",
       "      <td>63.00000</td>\n",
       "      <td>True</td>\n",
       "      <td>False</td>\n",
       "      <td>False</td>\n",
       "      <td>False</td>\n",
       "      <td>False</td>\n",
       "      <td>...</td>\n",
       "      <td>False</td>\n",
       "      <td>False</td>\n",
       "      <td>False</td>\n",
       "      <td>True</td>\n",
       "      <td>False</td>\n",
       "      <td>False</td>\n",
       "      <td>False</td>\n",
       "      <td>False</td>\n",
       "      <td>False</td>\n",
       "      <td>False</td>\n",
       "    </tr>\n",
       "    <tr>\n",
       "      <th>1823</th>\n",
       "      <td>2017</td>\n",
       "      <td>112000</td>\n",
       "      <td>1997.000000</td>\n",
       "      <td>7.0</td>\n",
       "      <td>70.00000</td>\n",
       "      <td>False</td>\n",
       "      <td>False</td>\n",
       "      <td>False</td>\n",
       "      <td>False</td>\n",
       "      <td>False</td>\n",
       "      <td>...</td>\n",
       "      <td>False</td>\n",
       "      <td>False</td>\n",
       "      <td>False</td>\n",
       "      <td>True</td>\n",
       "      <td>False</td>\n",
       "      <td>False</td>\n",
       "      <td>False</td>\n",
       "      <td>False</td>\n",
       "      <td>False</td>\n",
       "      <td>True</td>\n",
       "    </tr>\n",
       "    <tr>\n",
       "      <th>1370</th>\n",
       "      <td>2021</td>\n",
       "      <td>3000</td>\n",
       "      <td>2925.000000</td>\n",
       "      <td>7.0</td>\n",
       "      <td>90.00000</td>\n",
       "      <td>False</td>\n",
       "      <td>False</td>\n",
       "      <td>False</td>\n",
       "      <td>False</td>\n",
       "      <td>False</td>\n",
       "      <td>...</td>\n",
       "      <td>True</td>\n",
       "      <td>False</td>\n",
       "      <td>False</td>\n",
       "      <td>True</td>\n",
       "      <td>False</td>\n",
       "      <td>False</td>\n",
       "      <td>False</td>\n",
       "      <td>False</td>\n",
       "      <td>False</td>\n",
       "      <td>False</td>\n",
       "    </tr>\n",
       "    <tr>\n",
       "      <th>67</th>\n",
       "      <td>2019</td>\n",
       "      <td>73000</td>\n",
       "      <td>2755.000000</td>\n",
       "      <td>7.0</td>\n",
       "      <td>80.00000</td>\n",
       "      <td>False</td>\n",
       "      <td>False</td>\n",
       "      <td>False</td>\n",
       "      <td>False</td>\n",
       "      <td>False</td>\n",
       "      <td>...</td>\n",
       "      <td>True</td>\n",
       "      <td>False</td>\n",
       "      <td>False</td>\n",
       "      <td>True</td>\n",
       "      <td>False</td>\n",
       "      <td>False</td>\n",
       "      <td>False</td>\n",
       "      <td>False</td>\n",
       "      <td>False</td>\n",
       "      <td>False</td>\n",
       "    </tr>\n",
       "  </tbody>\n",
       "</table>\n",
       "<p>5 rows × 66 columns</p>\n",
       "</div>"
      ],
      "text/plain": [
       "      year  kilometer       engine  seating capacity  fuel tank capacity  \\\n",
       "266   2012      75576  1692.575543               5.0            52.00221   \n",
       "1133  2016      77000  1995.000000               5.0            63.00000   \n",
       "1823  2017     112000  1997.000000               7.0            70.00000   \n",
       "1370  2021       3000  2925.000000               7.0            90.00000   \n",
       "67    2019      73000  2755.000000               7.0            80.00000   \n",
       "\n",
       "      make_BMW  make_Chevrolet  make_Datsun  make_Fiat  make_Ford  ...  \\\n",
       "266       True           False        False      False      False  ...   \n",
       "1133      True           False        False      False      False  ...   \n",
       "1823     False           False        False      False      False  ...   \n",
       "1370     False           False        False      False      False  ...   \n",
       "67       False           False        False      False      False  ...   \n",
       "\n",
       "      color_White  color_Yellow  fuel type_CNG + CNG  fuel type_Diesel  \\\n",
       "266          True         False                False              True   \n",
       "1133        False         False                False              True   \n",
       "1823        False         False                False              True   \n",
       "1370         True         False                False              True   \n",
       "67           True         False                False              True   \n",
       "\n",
       "      fuel type_Electric  fuel type_Hybrid  fuel type_LPG  fuel type_Petrol  \\\n",
       "266                False             False          False             False   \n",
       "1133               False             False          False             False   \n",
       "1823               False             False          False             False   \n",
       "1370               False             False          False             False   \n",
       "67                 False             False          False             False   \n",
       "\n",
       "      fuel type_Petrol + LPG  transmission_Manual  \n",
       "266                    False                False  \n",
       "1133                   False                False  \n",
       "1823                   False                 True  \n",
       "1370                   False                False  \n",
       "67                     False                False  \n",
       "\n",
       "[5 rows x 66 columns]"
      ]
     },
     "execution_count": 88,
     "metadata": {},
     "output_type": "execute_result"
    }
   ],
   "source": [
    "x_train_encoded.head()"
   ]
  },
  {
   "cell_type": "code",
   "execution_count": 89,
   "metadata": {},
   "outputs": [
    {
     "data": {
      "text/plain": [
       "((1647, 66), (412, 57))"
      ]
     },
     "execution_count": 89,
     "metadata": {},
     "output_type": "execute_result"
    }
   ],
   "source": [
    "x_train_encoded.shape, x_test_encoded.shape"
   ]
  },
  {
   "cell_type": "markdown",
   "metadata": {},
   "source": [
    "# 12. Sort or Add columns \n",
    "- x_train.shape == x_valid.shape"
   ]
  },
  {
   "cell_type": "code",
   "execution_count": 90,
   "metadata": {},
   "outputs": [
    {
     "data": {
      "text/plain": [
       "set()"
      ]
     },
     "execution_count": 90,
     "metadata": {},
     "output_type": "execute_result"
    }
   ],
   "source": [
    "# columns missing in test data after encoding\n",
    "missing_cols = set(x_train_encoded.columns) - set(x_test_encoded.columns)\n",
    "for col in missing_cols:\n",
    "    x_test_encoded[col] = 0\n",
    "\n",
    "# check\n",
    "set(x_train_encoded.columns) - set(x_test_encoded.columns)"
   ]
  },
  {
   "cell_type": "code",
   "execution_count": 91,
   "metadata": {},
   "outputs": [],
   "source": [
    "missing_cols = set(x_test_encoded.columns) - set(x_train_encoded.columns)\n",
    "for col in missing_cols:\n",
    "    x_train_encoded[col] = 0"
   ]
  },
  {
   "cell_type": "code",
   "execution_count": 92,
   "metadata": {},
   "outputs": [
    {
     "data": {
      "text/plain": [
       "((1647, 69), (412, 69))"
      ]
     },
     "execution_count": 92,
     "metadata": {},
     "output_type": "execute_result"
    }
   ],
   "source": [
    "# check shape\n",
    "x_train_encoded.shape, x_test_encoded.shape"
   ]
  },
  {
   "cell_type": "code",
   "execution_count": 93,
   "metadata": {},
   "outputs": [],
   "source": [
    "x_test_encoded['transmission_Automatic'] = 0\n",
    "x_train_encoded['transmission_Automatic'] = 0"
   ]
  },
  {
   "cell_type": "code",
   "execution_count": 94,
   "metadata": {},
   "outputs": [],
   "source": [
    "# sort columns\n",
    "x_train_encoded = x_train_encoded.reindex(sorted(x_train_encoded.columns), axis=1)\n",
    "x_test_encoded = x_test_encoded.reindex(sorted(x_test_encoded.columns), axis=1)"
   ]
  },
  {
   "cell_type": "code",
   "execution_count": 95,
   "metadata": {},
   "outputs": [
    {
     "data": {
      "text/html": [
       "<div>\n",
       "<style scoped>\n",
       "    .dataframe tbody tr th:only-of-type {\n",
       "        vertical-align: middle;\n",
       "    }\n",
       "\n",
       "    .dataframe tbody tr th {\n",
       "        vertical-align: top;\n",
       "    }\n",
       "\n",
       "    .dataframe thead th {\n",
       "        text-align: right;\n",
       "    }\n",
       "</style>\n",
       "<table border=\"1\" class=\"dataframe\">\n",
       "  <thead>\n",
       "    <tr style=\"text-align: right;\">\n",
       "      <th></th>\n",
       "      <th>color_Black</th>\n",
       "      <th>color_Blue</th>\n",
       "      <th>color_Bronze</th>\n",
       "      <th>color_Brown</th>\n",
       "      <th>color_Gold</th>\n",
       "      <th>color_Green</th>\n",
       "      <th>color_Grey</th>\n",
       "      <th>color_Maroon</th>\n",
       "      <th>color_Orange</th>\n",
       "      <th>color_Others</th>\n",
       "      <th>...</th>\n",
       "      <th>owner_Fourth</th>\n",
       "      <th>owner_Second</th>\n",
       "      <th>owner_Third</th>\n",
       "      <th>owner_UnRegistered Car</th>\n",
       "      <th>seating capacity</th>\n",
       "      <th>seller type_Corporate</th>\n",
       "      <th>seller type_Individual</th>\n",
       "      <th>transmission_Automatic</th>\n",
       "      <th>transmission_Manual</th>\n",
       "      <th>year</th>\n",
       "    </tr>\n",
       "  </thead>\n",
       "  <tbody>\n",
       "    <tr>\n",
       "      <th>1298</th>\n",
       "      <td>True</td>\n",
       "      <td>False</td>\n",
       "      <td>False</td>\n",
       "      <td>False</td>\n",
       "      <td>False</td>\n",
       "      <td>False</td>\n",
       "      <td>False</td>\n",
       "      <td>False</td>\n",
       "      <td>False</td>\n",
       "      <td>False</td>\n",
       "      <td>...</td>\n",
       "      <td>0</td>\n",
       "      <td>False</td>\n",
       "      <td>False</td>\n",
       "      <td>False</td>\n",
       "      <td>7.0</td>\n",
       "      <td>0</td>\n",
       "      <td>True</td>\n",
       "      <td>0</td>\n",
       "      <td>False</td>\n",
       "      <td>2017</td>\n",
       "    </tr>\n",
       "    <tr>\n",
       "      <th>591</th>\n",
       "      <td>False</td>\n",
       "      <td>False</td>\n",
       "      <td>False</td>\n",
       "      <td>False</td>\n",
       "      <td>False</td>\n",
       "      <td>False</td>\n",
       "      <td>False</td>\n",
       "      <td>False</td>\n",
       "      <td>False</td>\n",
       "      <td>False</td>\n",
       "      <td>...</td>\n",
       "      <td>0</td>\n",
       "      <td>False</td>\n",
       "      <td>False</td>\n",
       "      <td>False</td>\n",
       "      <td>5.0</td>\n",
       "      <td>0</td>\n",
       "      <td>True</td>\n",
       "      <td>0</td>\n",
       "      <td>True</td>\n",
       "      <td>2018</td>\n",
       "    </tr>\n",
       "    <tr>\n",
       "      <th>1318</th>\n",
       "      <td>False</td>\n",
       "      <td>False</td>\n",
       "      <td>False</td>\n",
       "      <td>False</td>\n",
       "      <td>False</td>\n",
       "      <td>False</td>\n",
       "      <td>False</td>\n",
       "      <td>False</td>\n",
       "      <td>False</td>\n",
       "      <td>False</td>\n",
       "      <td>...</td>\n",
       "      <td>0</td>\n",
       "      <td>False</td>\n",
       "      <td>False</td>\n",
       "      <td>False</td>\n",
       "      <td>5.0</td>\n",
       "      <td>0</td>\n",
       "      <td>True</td>\n",
       "      <td>0</td>\n",
       "      <td>True</td>\n",
       "      <td>2016</td>\n",
       "    </tr>\n",
       "    <tr>\n",
       "      <th>1067</th>\n",
       "      <td>False</td>\n",
       "      <td>False</td>\n",
       "      <td>False</td>\n",
       "      <td>False</td>\n",
       "      <td>False</td>\n",
       "      <td>False</td>\n",
       "      <td>False</td>\n",
       "      <td>False</td>\n",
       "      <td>False</td>\n",
       "      <td>False</td>\n",
       "      <td>...</td>\n",
       "      <td>0</td>\n",
       "      <td>False</td>\n",
       "      <td>False</td>\n",
       "      <td>False</td>\n",
       "      <td>5.0</td>\n",
       "      <td>0</td>\n",
       "      <td>True</td>\n",
       "      <td>0</td>\n",
       "      <td>True</td>\n",
       "      <td>2019</td>\n",
       "    </tr>\n",
       "    <tr>\n",
       "      <th>29</th>\n",
       "      <td>False</td>\n",
       "      <td>False</td>\n",
       "      <td>False</td>\n",
       "      <td>False</td>\n",
       "      <td>False</td>\n",
       "      <td>False</td>\n",
       "      <td>False</td>\n",
       "      <td>False</td>\n",
       "      <td>False</td>\n",
       "      <td>False</td>\n",
       "      <td>...</td>\n",
       "      <td>0</td>\n",
       "      <td>False</td>\n",
       "      <td>False</td>\n",
       "      <td>False</td>\n",
       "      <td>5.0</td>\n",
       "      <td>0</td>\n",
       "      <td>True</td>\n",
       "      <td>0</td>\n",
       "      <td>True</td>\n",
       "      <td>2018</td>\n",
       "    </tr>\n",
       "  </tbody>\n",
       "</table>\n",
       "<p>5 rows × 70 columns</p>\n",
       "</div>"
      ],
      "text/plain": [
       "      color_Black  color_Blue  color_Bronze  color_Brown  color_Gold  \\\n",
       "1298         True       False         False        False       False   \n",
       "591         False       False         False        False       False   \n",
       "1318        False       False         False        False       False   \n",
       "1067        False       False         False        False       False   \n",
       "29          False       False         False        False       False   \n",
       "\n",
       "      color_Green  color_Grey  color_Maroon  color_Orange  color_Others  ...  \\\n",
       "1298        False       False         False         False         False  ...   \n",
       "591         False       False         False         False         False  ...   \n",
       "1318        False       False         False         False         False  ...   \n",
       "1067        False       False         False         False         False  ...   \n",
       "29          False       False         False         False         False  ...   \n",
       "\n",
       "      owner_Fourth  owner_Second  owner_Third  owner_UnRegistered Car  \\\n",
       "1298             0         False        False                   False   \n",
       "591              0         False        False                   False   \n",
       "1318             0         False        False                   False   \n",
       "1067             0         False        False                   False   \n",
       "29               0         False        False                   False   \n",
       "\n",
       "      seating capacity  seller type_Corporate  seller type_Individual  \\\n",
       "1298               7.0                      0                    True   \n",
       "591                5.0                      0                    True   \n",
       "1318               5.0                      0                    True   \n",
       "1067               5.0                      0                    True   \n",
       "29                 5.0                      0                    True   \n",
       "\n",
       "      transmission_Automatic  transmission_Manual  year  \n",
       "1298                       0                False  2017  \n",
       "591                        0                 True  2018  \n",
       "1318                       0                 True  2016  \n",
       "1067                       0                 True  2019  \n",
       "29                         0                 True  2018  \n",
       "\n",
       "[5 rows x 70 columns]"
      ]
     },
     "execution_count": 95,
     "metadata": {},
     "output_type": "execute_result"
    }
   ],
   "source": [
    "x_test_encoded.head()"
   ]
  },
  {
   "cell_type": "code",
   "execution_count": 96,
   "metadata": {},
   "outputs": [
    {
     "data": {
      "text/html": [
       "<div>\n",
       "<style scoped>\n",
       "    .dataframe tbody tr th:only-of-type {\n",
       "        vertical-align: middle;\n",
       "    }\n",
       "\n",
       "    .dataframe tbody tr th {\n",
       "        vertical-align: top;\n",
       "    }\n",
       "\n",
       "    .dataframe thead th {\n",
       "        text-align: right;\n",
       "    }\n",
       "</style>\n",
       "<table border=\"1\" class=\"dataframe\">\n",
       "  <thead>\n",
       "    <tr style=\"text-align: right;\">\n",
       "      <th></th>\n",
       "      <th>color_Black</th>\n",
       "      <th>color_Blue</th>\n",
       "      <th>color_Bronze</th>\n",
       "      <th>color_Brown</th>\n",
       "      <th>color_Gold</th>\n",
       "      <th>color_Green</th>\n",
       "      <th>color_Grey</th>\n",
       "      <th>color_Maroon</th>\n",
       "      <th>color_Orange</th>\n",
       "      <th>color_Others</th>\n",
       "      <th>...</th>\n",
       "      <th>owner_Fourth</th>\n",
       "      <th>owner_Second</th>\n",
       "      <th>owner_Third</th>\n",
       "      <th>owner_UnRegistered Car</th>\n",
       "      <th>seating capacity</th>\n",
       "      <th>seller type_Corporate</th>\n",
       "      <th>seller type_Individual</th>\n",
       "      <th>transmission_Automatic</th>\n",
       "      <th>transmission_Manual</th>\n",
       "      <th>year</th>\n",
       "    </tr>\n",
       "  </thead>\n",
       "  <tbody>\n",
       "    <tr>\n",
       "      <th>266</th>\n",
       "      <td>False</td>\n",
       "      <td>False</td>\n",
       "      <td>False</td>\n",
       "      <td>False</td>\n",
       "      <td>False</td>\n",
       "      <td>False</td>\n",
       "      <td>False</td>\n",
       "      <td>False</td>\n",
       "      <td>False</td>\n",
       "      <td>False</td>\n",
       "      <td>...</td>\n",
       "      <td>False</td>\n",
       "      <td>True</td>\n",
       "      <td>False</td>\n",
       "      <td>False</td>\n",
       "      <td>5.0</td>\n",
       "      <td>False</td>\n",
       "      <td>True</td>\n",
       "      <td>0</td>\n",
       "      <td>False</td>\n",
       "      <td>2012</td>\n",
       "    </tr>\n",
       "    <tr>\n",
       "      <th>1133</th>\n",
       "      <td>True</td>\n",
       "      <td>False</td>\n",
       "      <td>False</td>\n",
       "      <td>False</td>\n",
       "      <td>False</td>\n",
       "      <td>False</td>\n",
       "      <td>False</td>\n",
       "      <td>False</td>\n",
       "      <td>False</td>\n",
       "      <td>False</td>\n",
       "      <td>...</td>\n",
       "      <td>False</td>\n",
       "      <td>False</td>\n",
       "      <td>False</td>\n",
       "      <td>False</td>\n",
       "      <td>5.0</td>\n",
       "      <td>False</td>\n",
       "      <td>True</td>\n",
       "      <td>0</td>\n",
       "      <td>False</td>\n",
       "      <td>2016</td>\n",
       "    </tr>\n",
       "    <tr>\n",
       "      <th>1823</th>\n",
       "      <td>False</td>\n",
       "      <td>False</td>\n",
       "      <td>False</td>\n",
       "      <td>False</td>\n",
       "      <td>False</td>\n",
       "      <td>False</td>\n",
       "      <td>False</td>\n",
       "      <td>False</td>\n",
       "      <td>False</td>\n",
       "      <td>False</td>\n",
       "      <td>...</td>\n",
       "      <td>False</td>\n",
       "      <td>False</td>\n",
       "      <td>False</td>\n",
       "      <td>False</td>\n",
       "      <td>7.0</td>\n",
       "      <td>False</td>\n",
       "      <td>True</td>\n",
       "      <td>0</td>\n",
       "      <td>True</td>\n",
       "      <td>2017</td>\n",
       "    </tr>\n",
       "    <tr>\n",
       "      <th>1370</th>\n",
       "      <td>False</td>\n",
       "      <td>False</td>\n",
       "      <td>False</td>\n",
       "      <td>False</td>\n",
       "      <td>False</td>\n",
       "      <td>False</td>\n",
       "      <td>False</td>\n",
       "      <td>False</td>\n",
       "      <td>False</td>\n",
       "      <td>False</td>\n",
       "      <td>...</td>\n",
       "      <td>False</td>\n",
       "      <td>False</td>\n",
       "      <td>False</td>\n",
       "      <td>False</td>\n",
       "      <td>7.0</td>\n",
       "      <td>False</td>\n",
       "      <td>True</td>\n",
       "      <td>0</td>\n",
       "      <td>False</td>\n",
       "      <td>2021</td>\n",
       "    </tr>\n",
       "    <tr>\n",
       "      <th>67</th>\n",
       "      <td>False</td>\n",
       "      <td>False</td>\n",
       "      <td>False</td>\n",
       "      <td>False</td>\n",
       "      <td>False</td>\n",
       "      <td>False</td>\n",
       "      <td>False</td>\n",
       "      <td>False</td>\n",
       "      <td>False</td>\n",
       "      <td>False</td>\n",
       "      <td>...</td>\n",
       "      <td>False</td>\n",
       "      <td>False</td>\n",
       "      <td>False</td>\n",
       "      <td>False</td>\n",
       "      <td>7.0</td>\n",
       "      <td>False</td>\n",
       "      <td>True</td>\n",
       "      <td>0</td>\n",
       "      <td>False</td>\n",
       "      <td>2019</td>\n",
       "    </tr>\n",
       "  </tbody>\n",
       "</table>\n",
       "<p>5 rows × 70 columns</p>\n",
       "</div>"
      ],
      "text/plain": [
       "      color_Black  color_Blue  color_Bronze  color_Brown  color_Gold  \\\n",
       "266         False       False         False        False       False   \n",
       "1133         True       False         False        False       False   \n",
       "1823        False       False         False        False       False   \n",
       "1370        False       False         False        False       False   \n",
       "67          False       False         False        False       False   \n",
       "\n",
       "      color_Green  color_Grey  color_Maroon  color_Orange  color_Others  ...  \\\n",
       "266         False       False         False         False         False  ...   \n",
       "1133        False       False         False         False         False  ...   \n",
       "1823        False       False         False         False         False  ...   \n",
       "1370        False       False         False         False         False  ...   \n",
       "67          False       False         False         False         False  ...   \n",
       "\n",
       "      owner_Fourth  owner_Second  owner_Third  owner_UnRegistered Car  \\\n",
       "266          False          True        False                   False   \n",
       "1133         False         False        False                   False   \n",
       "1823         False         False        False                   False   \n",
       "1370         False         False        False                   False   \n",
       "67           False         False        False                   False   \n",
       "\n",
       "      seating capacity  seller type_Corporate  seller type_Individual  \\\n",
       "266                5.0                  False                    True   \n",
       "1133               5.0                  False                    True   \n",
       "1823               7.0                  False                    True   \n",
       "1370               7.0                  False                    True   \n",
       "67                 7.0                  False                    True   \n",
       "\n",
       "      transmission_Automatic  transmission_Manual  year  \n",
       "266                        0                False  2012  \n",
       "1133                       0                False  2016  \n",
       "1823                       0                 True  2017  \n",
       "1370                       0                False  2021  \n",
       "67                         0                False  2019  \n",
       "\n",
       "[5 rows x 70 columns]"
      ]
     },
     "execution_count": 96,
     "metadata": {},
     "output_type": "execute_result"
    }
   ],
   "source": [
    "x_train_encoded.head()"
   ]
  },
  {
   "cell_type": "markdown",
   "metadata": {},
   "source": [
    "# 13. Evaluation\n",
    "- show_scores(model, x_train, x_test, y_train, y_test)\n",
    "- score_dataset()\n",
    "- y_preds = model.predict()\n",
    "- y_probs = model.predict_proba()"
   ]
  },
  {
   "cell_type": "code",
   "execution_count": 97,
   "metadata": {},
   "outputs": [],
   "source": [
    "# # scale the data\n",
    "# from sklearn.preprocessing import StandardScaler\n",
    "# scaler = StandardScaler()\n",
    "# # columns to scale\n",
    "# columns_to_scale = ['engine']\n",
    "# x_train_encoded[columns_to_scale] = scaler.fit_transform(x_train_encoded[columns_to_scale])\n",
    "# x_test_encoded[columns_to_scale] = scaler.transform(x_test_encoded[columns_to_scale])"
   ]
  },
  {
   "cell_type": "code",
   "execution_count": 98,
   "metadata": {},
   "outputs": [
    {
     "data": {
      "text/html": [
       "<div>\n",
       "<style scoped>\n",
       "    .dataframe tbody tr th:only-of-type {\n",
       "        vertical-align: middle;\n",
       "    }\n",
       "\n",
       "    .dataframe tbody tr th {\n",
       "        vertical-align: top;\n",
       "    }\n",
       "\n",
       "    .dataframe thead th {\n",
       "        text-align: right;\n",
       "    }\n",
       "</style>\n",
       "<table border=\"1\" class=\"dataframe\">\n",
       "  <thead>\n",
       "    <tr style=\"text-align: right;\">\n",
       "      <th></th>\n",
       "      <th>color_Black</th>\n",
       "      <th>color_Blue</th>\n",
       "      <th>color_Bronze</th>\n",
       "      <th>color_Brown</th>\n",
       "      <th>color_Gold</th>\n",
       "      <th>color_Green</th>\n",
       "      <th>color_Grey</th>\n",
       "      <th>color_Maroon</th>\n",
       "      <th>color_Orange</th>\n",
       "      <th>color_Others</th>\n",
       "      <th>...</th>\n",
       "      <th>owner_Fourth</th>\n",
       "      <th>owner_Second</th>\n",
       "      <th>owner_Third</th>\n",
       "      <th>owner_UnRegistered Car</th>\n",
       "      <th>seating capacity</th>\n",
       "      <th>seller type_Corporate</th>\n",
       "      <th>seller type_Individual</th>\n",
       "      <th>transmission_Automatic</th>\n",
       "      <th>transmission_Manual</th>\n",
       "      <th>year</th>\n",
       "    </tr>\n",
       "  </thead>\n",
       "  <tbody>\n",
       "    <tr>\n",
       "      <th>1298</th>\n",
       "      <td>True</td>\n",
       "      <td>False</td>\n",
       "      <td>False</td>\n",
       "      <td>False</td>\n",
       "      <td>False</td>\n",
       "      <td>False</td>\n",
       "      <td>False</td>\n",
       "      <td>False</td>\n",
       "      <td>False</td>\n",
       "      <td>False</td>\n",
       "      <td>...</td>\n",
       "      <td>0</td>\n",
       "      <td>False</td>\n",
       "      <td>False</td>\n",
       "      <td>False</td>\n",
       "      <td>7.0</td>\n",
       "      <td>0</td>\n",
       "      <td>True</td>\n",
       "      <td>0</td>\n",
       "      <td>False</td>\n",
       "      <td>2017</td>\n",
       "    </tr>\n",
       "    <tr>\n",
       "      <th>591</th>\n",
       "      <td>False</td>\n",
       "      <td>False</td>\n",
       "      <td>False</td>\n",
       "      <td>False</td>\n",
       "      <td>False</td>\n",
       "      <td>False</td>\n",
       "      <td>False</td>\n",
       "      <td>False</td>\n",
       "      <td>False</td>\n",
       "      <td>False</td>\n",
       "      <td>...</td>\n",
       "      <td>0</td>\n",
       "      <td>False</td>\n",
       "      <td>False</td>\n",
       "      <td>False</td>\n",
       "      <td>5.0</td>\n",
       "      <td>0</td>\n",
       "      <td>True</td>\n",
       "      <td>0</td>\n",
       "      <td>True</td>\n",
       "      <td>2018</td>\n",
       "    </tr>\n",
       "    <tr>\n",
       "      <th>1318</th>\n",
       "      <td>False</td>\n",
       "      <td>False</td>\n",
       "      <td>False</td>\n",
       "      <td>False</td>\n",
       "      <td>False</td>\n",
       "      <td>False</td>\n",
       "      <td>False</td>\n",
       "      <td>False</td>\n",
       "      <td>False</td>\n",
       "      <td>False</td>\n",
       "      <td>...</td>\n",
       "      <td>0</td>\n",
       "      <td>False</td>\n",
       "      <td>False</td>\n",
       "      <td>False</td>\n",
       "      <td>5.0</td>\n",
       "      <td>0</td>\n",
       "      <td>True</td>\n",
       "      <td>0</td>\n",
       "      <td>True</td>\n",
       "      <td>2016</td>\n",
       "    </tr>\n",
       "    <tr>\n",
       "      <th>1067</th>\n",
       "      <td>False</td>\n",
       "      <td>False</td>\n",
       "      <td>False</td>\n",
       "      <td>False</td>\n",
       "      <td>False</td>\n",
       "      <td>False</td>\n",
       "      <td>False</td>\n",
       "      <td>False</td>\n",
       "      <td>False</td>\n",
       "      <td>False</td>\n",
       "      <td>...</td>\n",
       "      <td>0</td>\n",
       "      <td>False</td>\n",
       "      <td>False</td>\n",
       "      <td>False</td>\n",
       "      <td>5.0</td>\n",
       "      <td>0</td>\n",
       "      <td>True</td>\n",
       "      <td>0</td>\n",
       "      <td>True</td>\n",
       "      <td>2019</td>\n",
       "    </tr>\n",
       "    <tr>\n",
       "      <th>29</th>\n",
       "      <td>False</td>\n",
       "      <td>False</td>\n",
       "      <td>False</td>\n",
       "      <td>False</td>\n",
       "      <td>False</td>\n",
       "      <td>False</td>\n",
       "      <td>False</td>\n",
       "      <td>False</td>\n",
       "      <td>False</td>\n",
       "      <td>False</td>\n",
       "      <td>...</td>\n",
       "      <td>0</td>\n",
       "      <td>False</td>\n",
       "      <td>False</td>\n",
       "      <td>False</td>\n",
       "      <td>5.0</td>\n",
       "      <td>0</td>\n",
       "      <td>True</td>\n",
       "      <td>0</td>\n",
       "      <td>True</td>\n",
       "      <td>2018</td>\n",
       "    </tr>\n",
       "  </tbody>\n",
       "</table>\n",
       "<p>5 rows × 70 columns</p>\n",
       "</div>"
      ],
      "text/plain": [
       "      color_Black  color_Blue  color_Bronze  color_Brown  color_Gold  \\\n",
       "1298         True       False         False        False       False   \n",
       "591         False       False         False        False       False   \n",
       "1318        False       False         False        False       False   \n",
       "1067        False       False         False        False       False   \n",
       "29          False       False         False        False       False   \n",
       "\n",
       "      color_Green  color_Grey  color_Maroon  color_Orange  color_Others  ...  \\\n",
       "1298        False       False         False         False         False  ...   \n",
       "591         False       False         False         False         False  ...   \n",
       "1318        False       False         False         False         False  ...   \n",
       "1067        False       False         False         False         False  ...   \n",
       "29          False       False         False         False         False  ...   \n",
       "\n",
       "      owner_Fourth  owner_Second  owner_Third  owner_UnRegistered Car  \\\n",
       "1298             0         False        False                   False   \n",
       "591              0         False        False                   False   \n",
       "1318             0         False        False                   False   \n",
       "1067             0         False        False                   False   \n",
       "29               0         False        False                   False   \n",
       "\n",
       "      seating capacity  seller type_Corporate  seller type_Individual  \\\n",
       "1298               7.0                      0                    True   \n",
       "591                5.0                      0                    True   \n",
       "1318               5.0                      0                    True   \n",
       "1067               5.0                      0                    True   \n",
       "29                 5.0                      0                    True   \n",
       "\n",
       "      transmission_Automatic  transmission_Manual  year  \n",
       "1298                       0                False  2017  \n",
       "591                        0                 True  2018  \n",
       "1318                       0                 True  2016  \n",
       "1067                       0                 True  2019  \n",
       "29                         0                 True  2018  \n",
       "\n",
       "[5 rows x 70 columns]"
      ]
     },
     "execution_count": 98,
     "metadata": {},
     "output_type": "execute_result"
    }
   ],
   "source": [
    "x_test_encoded.head()"
   ]
  },
  {
   "cell_type": "code",
   "execution_count": 99,
   "metadata": {},
   "outputs": [],
   "source": [
    "# evaluation function\n",
    "from sklearn.metrics import mean_squared_error, mean_absolute_error, r2_score\n",
    "def evaluate(model, x_train, x_test, y_train, y_test):\n",
    "    model.fit(x_train, y_train)\n",
    "    y_pred = model.predict(x_test)\n",
    "    print(\"Training data evaluation\")\n",
    "    print('Mean Squared Error:', mean_squared_error(y_train, model.predict(x_train)))\n",
    "    print('Mean Absolute Error:', mean_absolute_error(y_train, model.predict(x_train)))\n",
    "    print('R2 Score:', r2_score(y_train, model.predict(x_train)))\n",
    "    print(\"Test data evaluation\")\n",
    "    print('Mean Squared Error:', mean_squared_error(y_test, y_pred))\n",
    "    print('Mean Absolute Error:', mean_absolute_error(y_test, y_pred))\n",
    "    print('R2 Score:', r2_score(y_test, y_pred))"
   ]
  },
  {
   "cell_type": "markdown",
   "metadata": {},
   "source": [
    "# 14. Fit the train data into models\n",
    "- compare the aaccuracy or other metrics."
   ]
  },
  {
   "cell_type": "code",
   "execution_count": 22,
   "metadata": {},
   "outputs": [],
   "source": [
    "# Linear Regression Model\n",
    "from sklearn.linear_model import LinearRegression\n",
    "from sklearn.metrics import mean_squared_error, r2_score, mean_absolute_error, mean_squared_log_error\n",
    "lr = LinearRegression()"
   ]
  },
  {
   "cell_type": "code",
   "execution_count": 255,
   "metadata": {},
   "outputs": [],
   "source": [
    "# Lasso Regression Model\n",
    "from sklearn.linear_model import Lasso\n",
    "lasso = Lasso()"
   ]
  },
  {
   "cell_type": "code",
   "execution_count": 256,
   "metadata": {},
   "outputs": [],
   "source": [
    "# Ridge Regression Model\n",
    "from sklearn.linear_model import Ridge\n",
    "ridge = Ridge()"
   ]
  },
  {
   "cell_type": "code",
   "execution_count": 257,
   "metadata": {},
   "outputs": [],
   "source": [
    "# Decision Tree Model\n",
    "from sklearn.tree import DecisionTreeRegressor\n",
    "dt = DecisionTreeRegressor()"
   ]
  },
  {
   "cell_type": "code",
   "execution_count": 258,
   "metadata": {},
   "outputs": [],
   "source": [
    "# Random Forest Model\n",
    "from sklearn.ensemble import RandomForestRegressor\n",
    "rf = RandomForestRegressor()"
   ]
  },
  {
   "cell_type": "code",
   "execution_count": 259,
   "metadata": {},
   "outputs": [],
   "source": [
    "# Gradient Boosting Model\n",
    "from sklearn.ensemble import GradientBoostingRegressor\n",
    "gb = GradientBoostingRegressor()"
   ]
  },
  {
   "cell_type": "code",
   "execution_count": 260,
   "metadata": {},
   "outputs": [
    {
     "name": "stdout",
     "output_type": "stream",
     "text": [
      "Linear Regression\n",
      "Training data evaluation\n",
      "Mean Squared Error: 1427014987573.0264\n",
      "Mean Absolute Error: 659289.5961911887\n",
      "R2 Score: 0.7437702740523404\n",
      "Test data evaluation\n",
      "Mean Squared Error: 4264349080028.5347\n",
      "Mean Absolute Error: 1289394.0262462914\n",
      "R2 Score: 0.3896111029346482\n",
      "\n",
      "\n",
      "\n",
      "Lasso Regression\n"
     ]
    },
    {
     "name": "stderr",
     "output_type": "stream",
     "text": [
      "c:\\Users\\Gokuleshwaran\\Desktop\\25-Projects\\00. Car Price Prediction\\.venv\\lib\\site-packages\\sklearn\\linear_model\\_coordinate_descent.py:631: ConvergenceWarning: Objective did not converge. You might want to increase the number of iterations, check the scale of the features or consider increasing regularisation. Duality gap: 1.160e+15, tolerance: 9.173e+11\n",
      "  model = cd_fast.enet_coordinate_descent(\n"
     ]
    },
    {
     "name": "stdout",
     "output_type": "stream",
     "text": [
      "Training data evaluation\n",
      "Mean Squared Error: 1427016258891.9812\n",
      "Mean Absolute Error: 659298.900154341\n",
      "R2 Score: 0.7437700457788393\n",
      "Test data evaluation\n",
      "Mean Squared Error: 4188558479949.5083\n",
      "Mean Absolute Error: 1260040.4962998615\n",
      "R2 Score: 0.40045959116156604\n",
      "\n",
      "\n",
      "\n",
      "Ridge Regression\n",
      "Training data evaluation\n",
      "Mean Squared Error: 1514727999857.025\n",
      "Mean Absolute Error: 690041.8276663754\n",
      "R2 Score: 0.7280208381352054\n",
      "Test data evaluation\n",
      "Mean Squared Error: 3223761612128.5527\n",
      "Mean Absolute Error: 851765.2446710748\n",
      "R2 Score: 0.5385583455058982\n",
      "\n",
      "\n",
      "\n",
      "Decision Tree\n",
      "Training data evaluation\n",
      "Mean Squared Error: 903377352.7625986\n",
      "Mean Absolute Error: 1318.1542197935642\n",
      "R2 Score: 0.9998377927817568\n",
      "Test data evaluation\n",
      "Mean Squared Error: 2896570068810.7573\n",
      "Mean Absolute Error: 484900.47572815535\n",
      "R2 Score: 0.5853917734234653\n",
      "\n",
      "\n",
      "\n",
      "Random Forest\n"
     ]
    },
    {
     "name": "stdout",
     "output_type": "stream",
     "text": [
      "Training data evaluation\n",
      "Mean Squared Error: 131415351309.10246\n",
      "Mean Absolute Error: 131065.10362274843\n",
      "R2 Score: 0.9764035278224269\n",
      "Test data evaluation\n",
      "Mean Squared Error: 1642059211863.4197\n",
      "Mean Absolute Error: 353455.7446521035\n",
      "R2 Score: 0.764959506730015\n",
      "\n",
      "\n",
      "\n",
      "Gradient Boosting\n",
      "Training data evaluation\n",
      "Mean Squared Error: 208990628262.0901\n",
      "Mean Absolute Error: 272168.51939225814\n",
      "R2 Score: 0.9624743875351315\n",
      "Test data evaluation\n",
      "Mean Squared Error: 1794827201860.4436\n",
      "Mean Absolute Error: 396780.08089564805\n",
      "R2 Score: 0.7430926559700978\n",
      "\n",
      "\n",
      "\n"
     ]
    }
   ],
   "source": [
    "models = [lr, lasso, ridge, dt, rf, gb]\n",
    "model_names = ['Linear Regression', 'Lasso Regression', 'Ridge Regression', 'Decision Tree', 'Random Forest', 'Gradient Boosting']\n",
    "for model, name in zip(models, model_names):\n",
    "    print(name)\n",
    "    evaluate(model, x_train_encoded, x_test_encoded, y_train, y_test)\n",
    "    print('\\n\\n')"
   ]
  },
  {
   "cell_type": "markdown",
   "metadata": {},
   "source": [
    "# 15. Tune hyperparameters \n",
    "- RandomizedSearchCV\n",
    "- GridSearchCV \n",
    "(on subset to reduce training time by adjusting max_samples parameter)"
   ]
  },
  {
   "cell_type": "code",
   "execution_count": null,
   "metadata": {},
   "outputs": [],
   "source": [
    "# Grid Search for Random Forest\n",
    "from sklearn.model_selection import GridSearchCV\n",
    "param_grid = {\n",
    "    'n_estimators': [100, 200, 300, 400],\n",
    "    'max_depth': [10, 20, 30, 40, 50, 60, 70, 80, 90, 100],\n",
    "    'min_samples_split': [2, 5, 10],\n",
    "    'min_samples_leaf': [1, 2, 4]\n",
    "}\n",
    "grid_search = GridSearchCV(estimator=rf, param_grid=param_grid, cv=3, n_jobs=-1, verbose=2)\n",
    "grid_search.fit(x_train_encoded, y_train)\n",
    "grid_search.best_params_"
   ]
  },
  {
   "cell_type": "code",
   "execution_count": 100,
   "metadata": {},
   "outputs": [
    {
     "name": "stdout",
     "output_type": "stream",
     "text": [
      "Training data evaluation\n",
      "Mean Squared Error: 131048158673.7059\n",
      "Mean Absolute Error: 127682.81808743169\n",
      "R2 Score: 0.9764694596235342\n",
      "Test data evaluation\n",
      "Mean Squared Error: 1752803516041.2778\n",
      "Mean Absolute Error: 346954.2787297735\n",
      "R2 Score: 0.7491078275136079\n"
     ]
    }
   ],
   "source": [
    "# Import Random Forest Model\n",
    "from sklearn.ensemble import RandomForestRegressor\n",
    "best_rf = RandomForestRegressor(max_depth=60, min_samples_leaf=1, min_samples_split=2, n_estimators=100)\n",
    "evaluate(best_rf, x_train_encoded, x_test_encoded, y_train, y_test)"
   ]
  },
  {
   "cell_type": "code",
   "execution_count": 101,
   "metadata": {},
   "outputs": [
    {
     "data": {
      "text/plain": [
       "['best_model']"
      ]
     },
     "execution_count": 101,
     "metadata": {},
     "output_type": "execute_result"
    }
   ],
   "source": [
    "# save the best model\n",
    "import joblib\n",
    "joblib.dump(best_rf, 'best_model')"
   ]
  },
  {
   "cell_type": "code",
   "execution_count": 102,
   "metadata": {},
   "outputs": [
    {
     "data": {
      "text/plain": [
       "Index(['make', 'price', 'year', 'kilometer', 'fuel type', 'transmission',\n",
       "       'color', 'owner', 'seller type', 'engine', 'seating capacity',\n",
       "       'fuel tank capacity'],\n",
       "      dtype='object')"
      ]
     },
     "execution_count": 102,
     "metadata": {},
     "output_type": "execute_result"
    }
   ],
   "source": [
    "df.columns"
   ]
  },
  {
   "cell_type": "code",
   "execution_count": 103,
   "metadata": {},
   "outputs": [
    {
     "data": {
      "text/plain": [
       "Index(['color_Black', 'color_Blue', 'color_Bronze', 'color_Brown',\n",
       "       'color_Gold', 'color_Green', 'color_Grey', 'color_Maroon',\n",
       "       'color_Orange', 'color_Others', 'color_Pink', 'color_Purple',\n",
       "       'color_Red', 'color_Silver', 'color_White', 'color_Yellow', 'engine',\n",
       "       'fuel tank capacity', 'fuel type_CNG + CNG', 'fuel type_Diesel',\n",
       "       'fuel type_Electric', 'fuel type_Hybrid', 'fuel type_LPG',\n",
       "       'fuel type_Petrol', 'fuel type_Petrol + CNG', 'fuel type_Petrol + LPG',\n",
       "       'kilometer', 'make_BMW', 'make_Chevrolet', 'make_Datsun',\n",
       "       'make_Ferrari', 'make_Fiat', 'make_Ford', 'make_Honda', 'make_Hyundai',\n",
       "       'make_Isuzu', 'make_Jaguar', 'make_Jeep', 'make_Kia',\n",
       "       'make_Lamborghini', 'make_Land Rover', 'make_Lexus', 'make_MG',\n",
       "       'make_MINI', 'make_Mahindra', 'make_Maruti Suzuki', 'make_Maserati',\n",
       "       'make_Mercedes-Benz', 'make_Mitsubishi', 'make_Nissan', 'make_Porsche',\n",
       "       'make_Renault', 'make_Rolls-Royce', 'make_Skoda', 'make_Ssangyong',\n",
       "       'make_Tata', 'make_Toyota', 'make_Volkswagen', 'make_Volvo',\n",
       "       'owner_First', 'owner_Fourth', 'owner_Second', 'owner_Third',\n",
       "       'owner_UnRegistered Car', 'seating capacity', 'seller type_Corporate',\n",
       "       'seller type_Individual', 'transmission_Automatic',\n",
       "       'transmission_Manual', 'year'],\n",
       "      dtype='object')"
      ]
     },
     "execution_count": 103,
     "metadata": {},
     "output_type": "execute_result"
    }
   ],
   "source": [
    "x_train_encoded.columns"
   ]
  },
  {
   "cell_type": "code",
   "execution_count": 104,
   "metadata": {},
   "outputs": [],
   "source": [
    "q = pd.read_csv('q.csv')\n"
   ]
  },
  {
   "cell_type": "code",
   "execution_count": 105,
   "metadata": {},
   "outputs": [
    {
     "data": {
      "text/html": [
       "<div>\n",
       "<style scoped>\n",
       "    .dataframe tbody tr th:only-of-type {\n",
       "        vertical-align: middle;\n",
       "    }\n",
       "\n",
       "    .dataframe tbody tr th {\n",
       "        vertical-align: top;\n",
       "    }\n",
       "\n",
       "    .dataframe thead th {\n",
       "        text-align: right;\n",
       "    }\n",
       "</style>\n",
       "<table border=\"1\" class=\"dataframe\">\n",
       "  <thead>\n",
       "    <tr style=\"text-align: right;\">\n",
       "      <th></th>\n",
       "      <th>Unnamed: 0</th>\n",
       "      <th>color_Black</th>\n",
       "      <th>color_Blue</th>\n",
       "      <th>color_Bronze</th>\n",
       "      <th>color_Brown</th>\n",
       "      <th>color_Gold</th>\n",
       "      <th>color_Green</th>\n",
       "      <th>color_Grey</th>\n",
       "      <th>color_Maroon</th>\n",
       "      <th>color_Orange</th>\n",
       "      <th>...</th>\n",
       "      <th>owner_Fourth</th>\n",
       "      <th>owner_Second</th>\n",
       "      <th>owner_Third</th>\n",
       "      <th>owner_UnRegistered Car</th>\n",
       "      <th>seating capacity</th>\n",
       "      <th>seller type_Corporate</th>\n",
       "      <th>seller type_Individual</th>\n",
       "      <th>transmission_Automatic</th>\n",
       "      <th>transmission_Manual</th>\n",
       "      <th>year</th>\n",
       "    </tr>\n",
       "  </thead>\n",
       "  <tbody>\n",
       "    <tr>\n",
       "      <th>0</th>\n",
       "      <td>0</td>\n",
       "      <td>1</td>\n",
       "      <td>0</td>\n",
       "      <td>0</td>\n",
       "      <td>0</td>\n",
       "      <td>0</td>\n",
       "      <td>0</td>\n",
       "      <td>0</td>\n",
       "      <td>0</td>\n",
       "      <td>0</td>\n",
       "      <td>...</td>\n",
       "      <td>0</td>\n",
       "      <td>0</td>\n",
       "      <td>0</td>\n",
       "      <td>0</td>\n",
       "      <td>5</td>\n",
       "      <td>1</td>\n",
       "      <td>0</td>\n",
       "      <td>0</td>\n",
       "      <td>1</td>\n",
       "      <td>2010</td>\n",
       "    </tr>\n",
       "  </tbody>\n",
       "</table>\n",
       "<p>1 rows × 71 columns</p>\n",
       "</div>"
      ],
      "text/plain": [
       "   Unnamed: 0  color_Black  color_Blue  color_Bronze  color_Brown  color_Gold  \\\n",
       "0           0            1           0             0            0           0   \n",
       "\n",
       "   color_Green  color_Grey  color_Maroon  color_Orange  ...  owner_Fourth  \\\n",
       "0            0           0             0             0  ...             0   \n",
       "\n",
       "   owner_Second  owner_Third  owner_UnRegistered Car  seating capacity  \\\n",
       "0             0            0                       0                 5   \n",
       "\n",
       "   seller type_Corporate  seller type_Individual  transmission_Automatic  \\\n",
       "0                      1                       0                       0   \n",
       "\n",
       "   transmission_Manual  year  \n",
       "0                    1  2010  \n",
       "\n",
       "[1 rows x 71 columns]"
      ]
     },
     "execution_count": 105,
     "metadata": {},
     "output_type": "execute_result"
    }
   ],
   "source": [
    "q"
   ]
  },
  {
   "cell_type": "code",
   "execution_count": 106,
   "metadata": {},
   "outputs": [],
   "source": [
    "# drop Unnamed: 0\n",
    "q.drop('Unnamed: 0', axis=1, inplace=True)"
   ]
  },
  {
   "cell_type": "code",
   "execution_count": 107,
   "metadata": {},
   "outputs": [
    {
     "data": {
      "text/html": [
       "<div>\n",
       "<style scoped>\n",
       "    .dataframe tbody tr th:only-of-type {\n",
       "        vertical-align: middle;\n",
       "    }\n",
       "\n",
       "    .dataframe tbody tr th {\n",
       "        vertical-align: top;\n",
       "    }\n",
       "\n",
       "    .dataframe thead th {\n",
       "        text-align: right;\n",
       "    }\n",
       "</style>\n",
       "<table border=\"1\" class=\"dataframe\">\n",
       "  <thead>\n",
       "    <tr style=\"text-align: right;\">\n",
       "      <th></th>\n",
       "      <th>color_Black</th>\n",
       "      <th>color_Blue</th>\n",
       "      <th>color_Bronze</th>\n",
       "      <th>color_Brown</th>\n",
       "      <th>color_Gold</th>\n",
       "      <th>color_Green</th>\n",
       "      <th>color_Grey</th>\n",
       "      <th>color_Maroon</th>\n",
       "      <th>color_Orange</th>\n",
       "      <th>color_Others</th>\n",
       "      <th>...</th>\n",
       "      <th>owner_Fourth</th>\n",
       "      <th>owner_Second</th>\n",
       "      <th>owner_Third</th>\n",
       "      <th>owner_UnRegistered Car</th>\n",
       "      <th>seating capacity</th>\n",
       "      <th>seller type_Corporate</th>\n",
       "      <th>seller type_Individual</th>\n",
       "      <th>transmission_Automatic</th>\n",
       "      <th>transmission_Manual</th>\n",
       "      <th>year</th>\n",
       "    </tr>\n",
       "  </thead>\n",
       "  <tbody>\n",
       "    <tr>\n",
       "      <th>0</th>\n",
       "      <td>1</td>\n",
       "      <td>0</td>\n",
       "      <td>0</td>\n",
       "      <td>0</td>\n",
       "      <td>0</td>\n",
       "      <td>0</td>\n",
       "      <td>0</td>\n",
       "      <td>0</td>\n",
       "      <td>0</td>\n",
       "      <td>0</td>\n",
       "      <td>...</td>\n",
       "      <td>0</td>\n",
       "      <td>0</td>\n",
       "      <td>0</td>\n",
       "      <td>0</td>\n",
       "      <td>5</td>\n",
       "      <td>1</td>\n",
       "      <td>0</td>\n",
       "      <td>0</td>\n",
       "      <td>1</td>\n",
       "      <td>2010</td>\n",
       "    </tr>\n",
       "  </tbody>\n",
       "</table>\n",
       "<p>1 rows × 70 columns</p>\n",
       "</div>"
      ],
      "text/plain": [
       "   color_Black  color_Blue  color_Bronze  color_Brown  color_Gold  \\\n",
       "0            1           0             0            0           0   \n",
       "\n",
       "   color_Green  color_Grey  color_Maroon  color_Orange  color_Others  ...  \\\n",
       "0            0           0             0             0             0  ...   \n",
       "\n",
       "   owner_Fourth  owner_Second  owner_Third  owner_UnRegistered Car  \\\n",
       "0             0             0            0                       0   \n",
       "\n",
       "   seating capacity  seller type_Corporate  seller type_Individual  \\\n",
       "0                 5                      1                       0   \n",
       "\n",
       "   transmission_Automatic  transmission_Manual  year  \n",
       "0                       0                    1  2010  \n",
       "\n",
       "[1 rows x 70 columns]"
      ]
     },
     "execution_count": 107,
     "metadata": {},
     "output_type": "execute_result"
    }
   ],
   "source": [
    "q"
   ]
  },
  {
   "cell_type": "code",
   "execution_count": 108,
   "metadata": {},
   "outputs": [],
   "source": [
    "# load the model\n",
    "import joblib\n",
    "model = joblib.load('best_model')"
   ]
  },
  {
   "cell_type": "code",
   "execution_count": 109,
   "metadata": {},
   "outputs": [],
   "source": [
    "t = model.predict(q)"
   ]
  },
  {
   "cell_type": "code",
   "execution_count": 110,
   "metadata": {},
   "outputs": [
    {
     "data": {
      "text/plain": [
       "array([200869.98])"
      ]
     },
     "execution_count": 110,
     "metadata": {},
     "output_type": "execute_result"
    }
   ],
   "source": [
    "t"
   ]
  },
  {
   "cell_type": "code",
   "execution_count": 76,
   "metadata": {},
   "outputs": [
    {
     "data": {
      "text/plain": [
       "Index(['color_Black', 'color_Blue', 'color_Bronze', 'color_Brown',\n",
       "       'color_Gold', 'color_Green', 'color_Grey', 'color_Maroon',\n",
       "       'color_Orange', 'color_Others', 'color_Pink', 'color_Purple',\n",
       "       'color_Red', 'color_Silver', 'color_White', 'color_Yellow', 'engine',\n",
       "       'fuel tank capacity', 'fuel type_CNG + CNG', 'fuel type_Diesel',\n",
       "       'fuel type_Electric', 'fuel type_Hybrid', 'fuel type_LPG',\n",
       "       'fuel type_Petrol', 'fuel type_Petrol + CNG', 'fuel type_Petrol + LPG',\n",
       "       'kilometer', 'make_BMW', 'make_Chevrolet', 'make_Datsun',\n",
       "       'make_Ferrari', 'make_Fiat', 'make_Ford', 'make_Honda', 'make_Hyundai',\n",
       "       'make_Isuzu', 'make_Jaguar', 'make_Jeep', 'make_Kia',\n",
       "       'make_Lamborghini', 'make_Land Rover', 'make_Lexus', 'make_MG',\n",
       "       'make_MINI', 'make_Mahindra', 'make_Maruti Suzuki', 'make_Maserati',\n",
       "       'make_Mercedes-Benz', 'make_Mitsubishi', 'make_Nissan', 'make_Porsche',\n",
       "       'make_Renault', 'make_Rolls-Royce', 'make_Skoda', 'make_Ssangyong',\n",
       "       'make_Tata', 'make_Toyota', 'make_Volkswagen', 'make_Volvo',\n",
       "       'owner_First', 'owner_Fourth', 'owner_Second', 'owner_Third',\n",
       "       'owner_UnRegistered Car', 'seating capacity', 'seller type_Corporate',\n",
       "       'seller type_Individual', 'transmission_Automatic',\n",
       "       'transmission_Manual', 'year'],\n",
       "      dtype='object')"
      ]
     },
     "execution_count": 76,
     "metadata": {},
     "output_type": "execute_result"
    }
   ],
   "source": [
    "q.columns"
   ]
  },
  {
   "cell_type": "code",
   "execution_count": 77,
   "metadata": {},
   "outputs": [
    {
     "data": {
      "text/plain": [
       "Index(['color_Black', 'color_Blue', 'color_Bronze', 'color_Brown',\n",
       "       'color_Gold', 'color_Green', 'color_Grey', 'color_Maroon',\n",
       "       'color_Orange', 'color_Others', 'color_Pink', 'color_Purple',\n",
       "       'color_Red', 'color_Silver', 'color_White', 'color_Yellow', 'engine',\n",
       "       'fuel tank capacity', 'fuel type_CNG + CNG', 'fuel type_Diesel',\n",
       "       'fuel type_Electric', 'fuel type_Hybrid', 'fuel type_LPG',\n",
       "       'fuel type_Petrol', 'fuel type_Petrol + CNG', 'fuel type_Petrol + LPG',\n",
       "       'kilometer', 'make_BMW', 'make_Chevrolet', 'make_Datsun',\n",
       "       'make_Ferrari', 'make_Fiat', 'make_Ford', 'make_Honda', 'make_Hyundai',\n",
       "       'make_Isuzu', 'make_Jaguar', 'make_Jeep', 'make_Kia',\n",
       "       'make_Lamborghini', 'make_Land Rover', 'make_Lexus', 'make_MG',\n",
       "       'make_MINI', 'make_Mahindra', 'make_Maruti Suzuki', 'make_Maserati',\n",
       "       'make_Mercedes-Benz', 'make_Mitsubishi', 'make_Nissan', 'make_Porsche',\n",
       "       'make_Renault', 'make_Rolls-Royce', 'make_Skoda', 'make_Ssangyong',\n",
       "       'make_Tata', 'make_Toyota', 'make_Volkswagen', 'make_Volvo',\n",
       "       'owner_First', 'owner_Fourth', 'owner_Second', 'owner_Third',\n",
       "       'owner_UnRegistered Car', 'seating capacity', 'seller type_Corporate',\n",
       "       'seller type_Individual', 'transmission_Manual', 'year',\n",
       "       'transmission_Automatic'],\n",
       "      dtype='object')"
      ]
     },
     "execution_count": 77,
     "metadata": {},
     "output_type": "execute_result"
    }
   ],
   "source": [
    "x_train_encoded.columns"
   ]
  },
  {
   "cell_type": "code",
   "execution_count": 78,
   "metadata": {},
   "outputs": [
    {
     "data": {
      "text/plain": [
       "70"
      ]
     },
     "execution_count": 78,
     "metadata": {},
     "output_type": "execute_result"
    }
   ],
   "source": [
    "len(q.columns)"
   ]
  },
  {
   "cell_type": "code",
   "execution_count": 79,
   "metadata": {},
   "outputs": [
    {
     "data": {
      "text/plain": [
       "set()"
      ]
     },
     "execution_count": 79,
     "metadata": {},
     "output_type": "execute_result"
    }
   ],
   "source": [
    "set(q.columns) - set(x_train_encoded.columns)"
   ]
  },
  {
   "cell_type": "code",
   "execution_count": 80,
   "metadata": {},
   "outputs": [
    {
     "data": {
      "text/plain": [
       "set()"
      ]
     },
     "execution_count": 80,
     "metadata": {},
     "output_type": "execute_result"
    }
   ],
   "source": [
    "set(x_train_encoded.columns) - set(q.columns)"
   ]
  },
  {
   "cell_type": "code",
   "execution_count": null,
   "metadata": {},
   "outputs": [],
   "source": []
  }
 ],
 "metadata": {
  "kernelspec": {
   "display_name": ".venv",
   "language": "python",
   "name": "python3"
  },
  "language_info": {
   "codemirror_mode": {
    "name": "ipython",
    "version": 3
   },
   "file_extension": ".py",
   "mimetype": "text/x-python",
   "name": "python",
   "nbconvert_exporter": "python",
   "pygments_lexer": "ipython3",
   "version": "3.10.10"
  }
 },
 "nbformat": 4,
 "nbformat_minor": 2
}
